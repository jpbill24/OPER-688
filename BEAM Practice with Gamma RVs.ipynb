{
 "cells": [
  {
   "cell_type": "code",
   "execution_count": 1,
   "metadata": {},
   "outputs": [],
   "source": [
    "using StatsPlots, Statistics, Distributions"
   ]
  },
  {
   "cell_type": "code",
   "execution_count": 2,
   "metadata": {},
   "outputs": [
    {
     "data": {
      "text/plain": [
       "generate_midpoints (generic function with 1 method)"
      ]
     },
     "execution_count": 2,
     "metadata": {},
     "output_type": "execute_result"
    }
   ],
   "source": [
    "function generate_midpoints(n_bins)\n",
    "    quantiles = Array{Float64}(undef, n_bins)\n",
    "    quantile_midpoints = Array{Float64}(undef, n_bins)\n",
    "\n",
    "    #generate the quantile midpoints\n",
    "    for i = 1:n_bins\n",
    "        quantiles[i] = i/n_bins\n",
    "        quantile_midpoints[i] = i/n_bins - (1/2)*(1/n_bins)\n",
    "    end\n",
    "\n",
    "    return vec(quantiles), vec(quantile_midpoints)\n",
    "end"
   ]
  },
  {
   "cell_type": "code",
   "execution_count": 3,
   "metadata": {},
   "outputs": [
    {
     "data": {
      "text/plain": [
       "add_distributions (generic function with 1 method)"
      ]
     },
     "execution_count": 3,
     "metadata": {},
     "output_type": "execute_result"
    }
   ],
   "source": [
    "function add_distributions(list1, list2)\n",
    "    sum_list = Array{Float64}(undef, length(list1)^2)\n",
    "    \n",
    "    list1 = repeat(list1, length(list1))\n",
    "    list1 = sort(list1)\n",
    "    list2 = repeat(list2, length(list2))\n",
    "    \n",
    "    for i in eachindex(sum_list)\n",
    "        sum_list[i] = list1[i] + list2[i]\n",
    "    end\n",
    "    \n",
    "    return vec(sort(sum_list))\n",
    "end"
   ]
  },
  {
   "cell_type": "code",
   "execution_count": 4,
   "metadata": {},
   "outputs": [
    {
     "data": {
      "text/plain": [
       "re_bin (generic function with 1 method)"
      ]
     },
     "execution_count": 4,
     "metadata": {},
     "output_type": "execute_result"
    }
   ],
   "source": [
    "function re_bin(distribution, n_bins)\n",
    "    rebinned = reshape(distribution, n_bins, n_bins)\n",
    "    rebinned = mean(rebinned, dims = 1)\n",
    "    \n",
    "    return vec(rebinned)\n",
    "end"
   ]
  },
  {
   "cell_type": "code",
   "execution_count": 5,
   "metadata": {},
   "outputs": [
    {
     "data": {
      "text/plain": [
       "calculate_mean (generic function with 1 method)"
      ]
     },
     "execution_count": 5,
     "metadata": {},
     "output_type": "execute_result"
    }
   ],
   "source": [
    "function calculate_mean(RV, n_bins)\n",
    "    return sum(RV .* 1/n_bins)\n",
    "end"
   ]
  },
  {
   "cell_type": "code",
   "execution_count": 6,
   "metadata": {},
   "outputs": [
    {
     "data": {
      "text/plain": [
       "calculate_variance (generic function with 1 method)"
      ]
     },
     "execution_count": 6,
     "metadata": {},
     "output_type": "execute_result"
    }
   ],
   "source": [
    "function calculate_variance(RV, calculated_mean, n_bins)\n",
    "    return sum(RV.^2 * (1/n_bins)) - calculated_mean^2\n",
    "end"
   ]
  },
  {
   "cell_type": "code",
   "execution_count": 23,
   "metadata": {},
   "outputs": [],
   "source": [
    "# Gamma distribution with parameters α and θ. \n",
    "# Mean = α*θ\n",
    "# Variance = α*θ^2\n",
    "\n",
    "n_bins = 10\n",
    "n_RVs = 30\n",
    "alpha_sum = 0\n",
    "\n",
    "# α = 4\n",
    "θ = 0.5\n",
    "\n",
    "RV_list = Array{Distribution}(undef, n_RVs)\n",
    "\n",
    "for i = 1:n_RVs\n",
    "    α = rand(1:5)\n",
    "    alpha_sum = alpha_sum + α\n",
    "    \n",
    "    temp_RV = Gamma(α, θ)\n",
    "    RV_list[i] = temp_RV\n",
    "end"
   ]
  },
  {
   "cell_type": "code",
   "execution_count": 24,
   "metadata": {},
   "outputs": [],
   "source": [
    "quantiles, quantile_midpoints = generate_midpoints(n_bins)\n",
    "\n",
    "final_RV = pop!(RV_list)\n",
    "final_RV = quantile.(final_RV, quantile_midpoints)\n",
    "\n",
    "for RV in RV_list\n",
    "    temp_list = quantile.(RV, quantile_midpoints)\n",
    "    \n",
    "    final_RV = add_distributions(temp_list, final_RV)\n",
    "    final_RV = re_bin(final_RV, n_bins) \n",
    "end"
   ]
  },
  {
   "cell_type": "code",
   "execution_count": 25,
   "metadata": {},
   "outputs": [
    {
     "name": "stdout",
     "output_type": "stream",
     "text": [
      "Expected average: 41.5\n",
      "Expected variance: 20.75\n",
      "Computed average: 40.94203140700406\n",
      "Computed variance: 13.320758329287855\n"
     ]
    }
   ],
   "source": [
    "println(\"Expected average: \", alpha_sum * θ)\n",
    "println(\"Expected variance: \", alpha_sum * θ^2)\n",
    "\n",
    "empirical_mean = calculate_mean(final_RV, n_bins)\n",
    "empirical_variance = calculate_variance(final_RV, empirical_mean, n_bins)\n",
    "\n",
    "println(\"Computed average: \", empirical_mean)\n",
    "println(\"Computed variance: \", empirical_variance)"
   ]
  },
  {
   "cell_type": "code",
   "execution_count": 26,
   "metadata": {},
   "outputs": [
    {
     "data": {
      "image/svg+xml": [
       "<?xml version=\"1.0\" encoding=\"utf-8\"?>\n",
       "<svg xmlns=\"http://www.w3.org/2000/svg\" xmlns:xlink=\"http://www.w3.org/1999/xlink\" width=\"600\" height=\"400\" viewBox=\"0 0 2400 1600\">\n",
       "<defs>\n",
       "  <clipPath id=\"clip3100\">\n",
       "    <rect x=\"0\" y=\"0\" width=\"2400\" height=\"1600\"/>\n",
       "  </clipPath>\n",
       "</defs>\n",
       "<path clip-path=\"url(#clip3100)\" d=\"\n",
       "M0 1600 L2400 1600 L2400 0 L0 0  Z\n",
       "  \" fill=\"#ffffff\" fill-rule=\"evenodd\" fill-opacity=\"1\"/>\n",
       "<defs>\n",
       "  <clipPath id=\"clip3101\">\n",
       "    <rect x=\"480\" y=\"0\" width=\"1681\" height=\"1600\"/>\n",
       "  </clipPath>\n",
       "</defs>\n",
       "<path clip-path=\"url(#clip3100)\" d=\"\n",
       "M207.423 1487.47 L2352.76 1487.47 L2352.76 47.2441 L207.423 47.2441  Z\n",
       "  \" fill=\"#ffffff\" fill-rule=\"evenodd\" fill-opacity=\"1\"/>\n",
       "<defs>\n",
       "  <clipPath id=\"clip3102\">\n",
       "    <rect x=\"207\" y=\"47\" width=\"2146\" height=\"1441\"/>\n",
       "  </clipPath>\n",
       "</defs>\n",
       "<polyline clip-path=\"url(#clip3102)\" style=\"stroke:#000000; stroke-width:2; stroke-opacity:0.1; fill:none\" points=\"\n",
       "  268.14,1487.47 268.14,47.2441 \n",
       "  \"/>\n",
       "<polyline clip-path=\"url(#clip3102)\" style=\"stroke:#000000; stroke-width:2; stroke-opacity:0.1; fill:none\" points=\"\n",
       "  602.042,1487.47 602.042,47.2441 \n",
       "  \"/>\n",
       "<polyline clip-path=\"url(#clip3102)\" style=\"stroke:#000000; stroke-width:2; stroke-opacity:0.1; fill:none\" points=\"\n",
       "  935.943,1487.47 935.943,47.2441 \n",
       "  \"/>\n",
       "<polyline clip-path=\"url(#clip3102)\" style=\"stroke:#000000; stroke-width:2; stroke-opacity:0.1; fill:none\" points=\"\n",
       "  1269.85,1487.47 1269.85,47.2441 \n",
       "  \"/>\n",
       "<polyline clip-path=\"url(#clip3102)\" style=\"stroke:#000000; stroke-width:2; stroke-opacity:0.1; fill:none\" points=\"\n",
       "  1603.75,1487.47 1603.75,47.2441 \n",
       "  \"/>\n",
       "<polyline clip-path=\"url(#clip3102)\" style=\"stroke:#000000; stroke-width:2; stroke-opacity:0.1; fill:none\" points=\"\n",
       "  1937.65,1487.47 1937.65,47.2441 \n",
       "  \"/>\n",
       "<polyline clip-path=\"url(#clip3102)\" style=\"stroke:#000000; stroke-width:2; stroke-opacity:0.1; fill:none\" points=\"\n",
       "  2271.55,1487.47 2271.55,47.2441 \n",
       "  \"/>\n",
       "<polyline clip-path=\"url(#clip3102)\" style=\"stroke:#000000; stroke-width:2; stroke-opacity:0.1; fill:none\" points=\"\n",
       "  207.423,1446.71 2352.76,1446.71 \n",
       "  \"/>\n",
       "<polyline clip-path=\"url(#clip3102)\" style=\"stroke:#000000; stroke-width:2; stroke-opacity:0.1; fill:none\" points=\"\n",
       "  207.423,1135.9 2352.76,1135.9 \n",
       "  \"/>\n",
       "<polyline clip-path=\"url(#clip3102)\" style=\"stroke:#000000; stroke-width:2; stroke-opacity:0.1; fill:none\" points=\"\n",
       "  207.423,825.095 2352.76,825.095 \n",
       "  \"/>\n",
       "<polyline clip-path=\"url(#clip3102)\" style=\"stroke:#000000; stroke-width:2; stroke-opacity:0.1; fill:none\" points=\"\n",
       "  207.423,514.286 2352.76,514.286 \n",
       "  \"/>\n",
       "<polyline clip-path=\"url(#clip3102)\" style=\"stroke:#000000; stroke-width:2; stroke-opacity:0.1; fill:none\" points=\"\n",
       "  207.423,203.477 2352.76,203.477 \n",
       "  \"/>\n",
       "<polyline clip-path=\"url(#clip3100)\" style=\"stroke:#000000; stroke-width:4; stroke-opacity:1; fill:none\" points=\"\n",
       "  207.423,1487.47 2352.76,1487.47 \n",
       "  \"/>\n",
       "<polyline clip-path=\"url(#clip3100)\" style=\"stroke:#000000; stroke-width:4; stroke-opacity:1; fill:none\" points=\"\n",
       "  207.423,1487.47 207.423,47.2441 \n",
       "  \"/>\n",
       "<polyline clip-path=\"url(#clip3100)\" style=\"stroke:#000000; stroke-width:4; stroke-opacity:1; fill:none\" points=\"\n",
       "  268.14,1487.47 268.14,1470.19 \n",
       "  \"/>\n",
       "<polyline clip-path=\"url(#clip3100)\" style=\"stroke:#000000; stroke-width:4; stroke-opacity:1; fill:none\" points=\"\n",
       "  602.042,1487.47 602.042,1470.19 \n",
       "  \"/>\n",
       "<polyline clip-path=\"url(#clip3100)\" style=\"stroke:#000000; stroke-width:4; stroke-opacity:1; fill:none\" points=\"\n",
       "  935.943,1487.47 935.943,1470.19 \n",
       "  \"/>\n",
       "<polyline clip-path=\"url(#clip3100)\" style=\"stroke:#000000; stroke-width:4; stroke-opacity:1; fill:none\" points=\"\n",
       "  1269.85,1487.47 1269.85,1470.19 \n",
       "  \"/>\n",
       "<polyline clip-path=\"url(#clip3100)\" style=\"stroke:#000000; stroke-width:4; stroke-opacity:1; fill:none\" points=\"\n",
       "  1603.75,1487.47 1603.75,1470.19 \n",
       "  \"/>\n",
       "<polyline clip-path=\"url(#clip3100)\" style=\"stroke:#000000; stroke-width:4; stroke-opacity:1; fill:none\" points=\"\n",
       "  1937.65,1487.47 1937.65,1470.19 \n",
       "  \"/>\n",
       "<polyline clip-path=\"url(#clip3100)\" style=\"stroke:#000000; stroke-width:4; stroke-opacity:1; fill:none\" points=\"\n",
       "  2271.55,1487.47 2271.55,1470.19 \n",
       "  \"/>\n",
       "<polyline clip-path=\"url(#clip3100)\" style=\"stroke:#000000; stroke-width:4; stroke-opacity:1; fill:none\" points=\"\n",
       "  207.423,1446.71 233.167,1446.71 \n",
       "  \"/>\n",
       "<polyline clip-path=\"url(#clip3100)\" style=\"stroke:#000000; stroke-width:4; stroke-opacity:1; fill:none\" points=\"\n",
       "  207.423,1135.9 233.167,1135.9 \n",
       "  \"/>\n",
       "<polyline clip-path=\"url(#clip3100)\" style=\"stroke:#000000; stroke-width:4; stroke-opacity:1; fill:none\" points=\"\n",
       "  207.423,825.095 233.167,825.095 \n",
       "  \"/>\n",
       "<polyline clip-path=\"url(#clip3100)\" style=\"stroke:#000000; stroke-width:4; stroke-opacity:1; fill:none\" points=\"\n",
       "  207.423,514.286 233.167,514.286 \n",
       "  \"/>\n",
       "<polyline clip-path=\"url(#clip3100)\" style=\"stroke:#000000; stroke-width:4; stroke-opacity:1; fill:none\" points=\"\n",
       "  207.423,203.477 233.167,203.477 \n",
       "  \"/>\n",
       "<g clip-path=\"url(#clip3100)\">\n",
       "<text style=\"fill:#000000; fill-opacity:1; font-family:Arial,Helvetica Neue,Helvetica,sans-serif; font-size:48px; text-anchor:middle;\" transform=\"rotate(0, 268.14, 1541.47)\" x=\"268.14\" y=\"1541.47\">0</text>\n",
       "</g>\n",
       "<g clip-path=\"url(#clip3100)\">\n",
       "<text style=\"fill:#000000; fill-opacity:1; font-family:Arial,Helvetica Neue,Helvetica,sans-serif; font-size:48px; text-anchor:middle;\" transform=\"rotate(0, 602.042, 1541.47)\" x=\"602.042\" y=\"1541.47\">10</text>\n",
       "</g>\n",
       "<g clip-path=\"url(#clip3100)\">\n",
       "<text style=\"fill:#000000; fill-opacity:1; font-family:Arial,Helvetica Neue,Helvetica,sans-serif; font-size:48px; text-anchor:middle;\" transform=\"rotate(0, 935.943, 1541.47)\" x=\"935.943\" y=\"1541.47\">20</text>\n",
       "</g>\n",
       "<g clip-path=\"url(#clip3100)\">\n",
       "<text style=\"fill:#000000; fill-opacity:1; font-family:Arial,Helvetica Neue,Helvetica,sans-serif; font-size:48px; text-anchor:middle;\" transform=\"rotate(0, 1269.85, 1541.47)\" x=\"1269.85\" y=\"1541.47\">30</text>\n",
       "</g>\n",
       "<g clip-path=\"url(#clip3100)\">\n",
       "<text style=\"fill:#000000; fill-opacity:1; font-family:Arial,Helvetica Neue,Helvetica,sans-serif; font-size:48px; text-anchor:middle;\" transform=\"rotate(0, 1603.75, 1541.47)\" x=\"1603.75\" y=\"1541.47\">40</text>\n",
       "</g>\n",
       "<g clip-path=\"url(#clip3100)\">\n",
       "<text style=\"fill:#000000; fill-opacity:1; font-family:Arial,Helvetica Neue,Helvetica,sans-serif; font-size:48px; text-anchor:middle;\" transform=\"rotate(0, 1937.65, 1541.47)\" x=\"1937.65\" y=\"1541.47\">50</text>\n",
       "</g>\n",
       "<g clip-path=\"url(#clip3100)\">\n",
       "<text style=\"fill:#000000; fill-opacity:1; font-family:Arial,Helvetica Neue,Helvetica,sans-serif; font-size:48px; text-anchor:middle;\" transform=\"rotate(0, 2271.55, 1541.47)\" x=\"2271.55\" y=\"1541.47\">60</text>\n",
       "</g>\n",
       "<g clip-path=\"url(#clip3100)\">\n",
       "<text style=\"fill:#000000; fill-opacity:1; font-family:Arial,Helvetica Neue,Helvetica,sans-serif; font-size:48px; text-anchor:end;\" transform=\"rotate(0, 183.423, 1464.21)\" x=\"183.423\" y=\"1464.21\">0.000</text>\n",
       "</g>\n",
       "<g clip-path=\"url(#clip3100)\">\n",
       "<text style=\"fill:#000000; fill-opacity:1; font-family:Arial,Helvetica Neue,Helvetica,sans-serif; font-size:48px; text-anchor:end;\" transform=\"rotate(0, 183.423, 1153.4)\" x=\"183.423\" y=\"1153.4\">0.025</text>\n",
       "</g>\n",
       "<g clip-path=\"url(#clip3100)\">\n",
       "<text style=\"fill:#000000; fill-opacity:1; font-family:Arial,Helvetica Neue,Helvetica,sans-serif; font-size:48px; text-anchor:end;\" transform=\"rotate(0, 183.423, 842.595)\" x=\"183.423\" y=\"842.595\">0.050</text>\n",
       "</g>\n",
       "<g clip-path=\"url(#clip3100)\">\n",
       "<text style=\"fill:#000000; fill-opacity:1; font-family:Arial,Helvetica Neue,Helvetica,sans-serif; font-size:48px; text-anchor:end;\" transform=\"rotate(0, 183.423, 531.786)\" x=\"183.423\" y=\"531.786\">0.075</text>\n",
       "</g>\n",
       "<g clip-path=\"url(#clip3100)\">\n",
       "<text style=\"fill:#000000; fill-opacity:1; font-family:Arial,Helvetica Neue,Helvetica,sans-serif; font-size:48px; text-anchor:end;\" transform=\"rotate(0, 183.423, 220.977)\" x=\"183.423\" y=\"220.977\">0.100</text>\n",
       "</g>\n",
       "<polyline clip-path=\"url(#clip3102)\" style=\"stroke:#009af9; stroke-width:4; stroke-opacity:1; fill:none\" points=\"\n",
       "  268.14,1446.71 287.905,1446.71 470.661,1446.71 580.49,1446.71 673.349,1446.71 774.22,1446.71 867.214,1446.71 966.913,1446.71 1082.42,1446.62 1133.75,1446.07 \n",
       "  1185.08,1443.36 1230.09,1435.2 1275.09,1413.69 1299.63,1392.02 1324.17,1360.24 1336.43,1339.79 1348.7,1315.93 1360.97,1288.42 1373.24,1257.09 1385.58,1221.63 \n",
       "  1397.92,1182.19 1410.26,1138.87 1422.6,1091.87 1447.28,988.231 1471.96,875.228 1499.25,746.243 1526.54,622.056 1540.19,564.876 1553.83,512.586 1567.47,466.291 \n",
       "  1581.12,426.966 1594.1,396.756 1607.08,374.117 1620.07,359.403 1633.05,352.791 1646.03,354.274 1659.01,363.668 1672,380.624 1684.98,404.648 1698.48,436.455 \n",
       "  1711.97,474.418 1725.47,517.638 1738.97,565.16 1765.97,669.216 1792.97,779.018 1815.69,870.945 1838.42,958.919 1861.14,1040.49 1883.87,1114.02 1897.74,1154.55 \n",
       "  1911.61,1191.66 1925.49,1225.35 1939.36,1255.69 1953.23,1282.81 1967.11,1306.85 1980.98,1328.02 1994.85,1346.52 2020.93,1374.89 2047.01,1396.16 2073.1,1411.75 \n",
       "  2099.18,1422.94 2182.75,1440.53 2266.32,1445.34 2279.18,1445.63 2292.04,1445.87 \n",
       "  \"/>\n",
       "<polyline clip-path=\"url(#clip3102)\" style=\"stroke:#e26f46; stroke-width:4; stroke-opacity:1; fill:none\" points=\"\n",
       "  1181.98,1445.37 1186.41,1445.17 1190.83,1444.95 1231.76,1441.05 1272.68,1430.43 1297.28,1417.64 1321.87,1396.86 1342.67,1370.51 1363.46,1333.6 1374.75,1308.23 \n",
       "  1386.05,1278.62 1397.34,1244.42 1408.64,1205.35 1419.05,1164.83 1429.46,1119.9 1439.87,1070.57 1450.29,1016.94 1472.61,888.651 1494.94,745.992 1520.81,572.012 \n",
       "  1546.67,402.935 1558.17,333.876 1569.66,270.754 1581.15,215.057 1592.65,168.146 1602.73,135.177 1612.81,110.529 1622.89,94.6983 1632.96,88.0053 1643.95,91.2764 \n",
       "  1654.94,105.489 1665.93,130.301 1676.92,165.116 1687.97,209.401 1699.03,261.945 1710.08,321.552 1721.14,386.917 1745.58,545.018 1770.02,709.785 1793.28,860.815 \n",
       "  1816.54,997.553 1828.63,1061.1 1840.72,1118.91 1852.81,1170.78 1864.9,1216.71 1885.26,1281.16 1905.62,1330.83 1930.47,1374.53 1955.32,1403.58 1978.68,1421.12 \n",
       "  2002.05,1432.07 2039.48,1441.17 2076.9,1444.81 2082.66,1445.11 2088.42,1445.37 \n",
       "  \"/>\n",
       "<polyline clip-path=\"url(#clip3102)\" style=\"stroke:#3da44d; stroke-width:4; stroke-opacity:1; fill:none\" points=\"\n",
       "  1088.17,1445.63 1093.7,1445.48 1099.22,1445.3 1150.3,1442.17 1201.38,1433.67 1232.07,1423.42 1262.77,1406.77 1288.72,1385.66 1314.68,1356.08 1328.77,1335.76 \n",
       "  1342.87,1312.03 1356.96,1284.63 1371.06,1253.33 1384.06,1220.86 1397.05,1184.86 1410.05,1145.34 1423.04,1102.36 1450.91,999.579 1478.77,885.277 1511.06,745.879 \n",
       "  1543.34,610.411 1557.69,555.078 1572.03,504.503 1586.38,459.877 1600.72,422.291 1613.3,395.876 1625.88,376.127 1638.46,363.443 1651.04,358.08 1664.76,360.701 \n",
       "  1678.47,372.089 1692.19,391.968 1705.9,419.863 1719.7,455.346 1733.49,497.445 1747.29,545.204 1761.09,597.576 1791.59,724.251 1822.1,856.267 1851.13,977.276 \n",
       "  1880.16,1086.83 1895.25,1137.75 1910.34,1184.07 1925.43,1225.62 1940.52,1262.43 1965.93,1314.07 1991.33,1353.86 2022.35,1388.87 2053.37,1412.15 2082.53,1426.21 \n",
       "  2111.69,1434.98 2158.4,1442.27 2205.11,1445.18 2212.3,1445.43 2219.49,1445.63 \n",
       "  \"/>\n",
       "<path clip-path=\"url(#clip3100)\" d=\"\n",
       "M1989.93 372.684 L2280.76 372.684 L2280.76 130.764 L1989.93 130.764  Z\n",
       "  \" fill=\"#ffffff\" fill-rule=\"evenodd\" fill-opacity=\"1\"/>\n",
       "<polyline clip-path=\"url(#clip3100)\" style=\"stroke:#000000; stroke-width:4; stroke-opacity:1; fill:none\" points=\"\n",
       "  1989.93,372.684 2280.76,372.684 2280.76,130.764 1989.93,130.764 1989.93,372.684 \n",
       "  \"/>\n",
       "<polyline clip-path=\"url(#clip3100)\" style=\"stroke:#009af9; stroke-width:4; stroke-opacity:1; fill:none\" points=\"\n",
       "  2013.93,191.244 2157.93,191.244 \n",
       "  \"/>\n",
       "<g clip-path=\"url(#clip3100)\">\n",
       "<text style=\"fill:#000000; fill-opacity:1; font-family:Arial,Helvetica Neue,Helvetica,sans-serif; font-size:48px; text-anchor:start;\" transform=\"rotate(0, 2181.93, 208.744)\" x=\"2181.93\" y=\"208.744\">y1</text>\n",
       "</g>\n",
       "<polyline clip-path=\"url(#clip3100)\" style=\"stroke:#e26f46; stroke-width:4; stroke-opacity:1; fill:none\" points=\"\n",
       "  2013.93,251.724 2157.93,251.724 \n",
       "  \"/>\n",
       "<g clip-path=\"url(#clip3100)\">\n",
       "<text style=\"fill:#000000; fill-opacity:1; font-family:Arial,Helvetica Neue,Helvetica,sans-serif; font-size:48px; text-anchor:start;\" transform=\"rotate(0, 2181.93, 269.224)\" x=\"2181.93\" y=\"269.224\">y2</text>\n",
       "</g>\n",
       "<polyline clip-path=\"url(#clip3100)\" style=\"stroke:#3da44d; stroke-width:4; stroke-opacity:1; fill:none\" points=\"\n",
       "  2013.93,312.204 2157.93,312.204 \n",
       "  \"/>\n",
       "<g clip-path=\"url(#clip3100)\">\n",
       "<text style=\"fill:#000000; fill-opacity:1; font-family:Arial,Helvetica Neue,Helvetica,sans-serif; font-size:48px; text-anchor:start;\" transform=\"rotate(0, 2181.93, 329.704)\" x=\"2181.93\" y=\"329.704\">y3</text>\n",
       "</g>\n",
       "</svg>\n"
      ]
     },
     "execution_count": 26,
     "metadata": {},
     "output_type": "execute_result"
    }
   ],
   "source": [
    "# This plot represents the Gamma distribution we would expect\n",
    "#  to see using the fact that the sum of Gammas with fixed θ\n",
    "#  is Gamma with parameters α = sum(α_i), θ\n",
    "plot(Gamma(alpha_sum, θ))\n",
    "\n",
    "# Plot of the normal distribution estimated from the \n",
    "#  approximate parameters from the final vector of \n",
    "#  of quantiles\n",
    "plot!(Normal(empirical_mean, empirical_variance^0.5))\n",
    "\n",
    "# The plot below represents the distribution we expect\n",
    "#   according to the CLT estimates for μ and σ\n",
    "plot!(Normal(alpha_sum*θ, sqrt(alpha_sum)*θ))"
   ]
  },
  {
   "cell_type": "code",
   "execution_count": null,
   "metadata": {},
   "outputs": [],
   "source": []
  }
 ],
 "metadata": {
  "kernelspec": {
   "display_name": "Julia 1.5.0-rc1",
   "language": "julia",
   "name": "julia-1.5"
  },
  "language_info": {
   "file_extension": ".jl",
   "mimetype": "application/julia",
   "name": "julia",
   "version": "1.5.0"
  }
 },
 "nbformat": 4,
 "nbformat_minor": 4
}
