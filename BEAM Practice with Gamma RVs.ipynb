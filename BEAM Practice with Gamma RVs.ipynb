{
 "cells": [
  {
   "cell_type": "code",
   "execution_count": 4,
   "metadata": {},
   "outputs": [],
   "source": [
    "using StatsPlots, Statistics, Distributions"
   ]
  },
  {
   "cell_type": "code",
   "execution_count": 5,
   "metadata": {},
   "outputs": [
    {
     "data": {
      "text/plain": [
       "generate_midpoints (generic function with 1 method)"
      ]
     },
     "execution_count": 5,
     "metadata": {},
     "output_type": "execute_result"
    }
   ],
   "source": [
    "function generate_midpoints(n_bins)\n",
    "    quantiles = Array{Float64}(undef, n_bins)\n",
    "    quantile_midpoints = Array{Float64}(undef, n_bins)\n",
    "\n",
    "    #generate the quantile midpoints\n",
    "    for i = 1:n_bins\n",
    "        quantiles[i] = i/n_bins\n",
    "        quantile_midpoints[i] = i/n_bins - (1/2)*(1/n_bins)\n",
    "    end\n",
    "\n",
    "    return vec(quantiles), vec(quantile_midpoints)\n",
    "end"
   ]
  },
  {
   "cell_type": "code",
   "execution_count": 6,
   "metadata": {},
   "outputs": [
    {
     "data": {
      "text/plain": [
       "add_distributions (generic function with 1 method)"
      ]
     },
     "execution_count": 6,
     "metadata": {},
     "output_type": "execute_result"
    }
   ],
   "source": [
    "function add_distributions(list1, list2)\n",
    "    sum_list = Array{Float64}(undef, length(list1)^2)\n",
    "    \n",
    "    list1 = repeat(list1, length(list1))\n",
    "    list1 = sort(list1)\n",
    "    list2 = repeat(list2, length(list2))\n",
    "    \n",
    "    for i in eachindex(sum_list)\n",
    "        sum_list[i] = list1[i] + list2[i]\n",
    "    end\n",
    "    \n",
    "    return vec(sort(sum_list))\n",
    "end"
   ]
  },
  {
   "cell_type": "code",
   "execution_count": 7,
   "metadata": {},
   "outputs": [
    {
     "data": {
      "text/plain": [
       "re_bin (generic function with 1 method)"
      ]
     },
     "execution_count": 7,
     "metadata": {},
     "output_type": "execute_result"
    }
   ],
   "source": [
    "function re_bin(distribution, n_bins)\n",
    "    rebinned = reshape(distribution, n_bins, n_bins)\n",
    "    rebinned = mean(rebinned, dims = 1)\n",
    "    \n",
    "    return vec(rebinned)\n",
    "end"
   ]
  },
  {
   "cell_type": "code",
   "execution_count": 8,
   "metadata": {},
   "outputs": [
    {
     "data": {
      "text/plain": [
       "calculate_mean (generic function with 1 method)"
      ]
     },
     "execution_count": 8,
     "metadata": {},
     "output_type": "execute_result"
    }
   ],
   "source": [
    "function calculate_mean(RV, n_bins)\n",
    "    return sum(RV .* 1/n_bins)\n",
    "end"
   ]
  },
  {
   "cell_type": "code",
   "execution_count": 9,
   "metadata": {},
   "outputs": [
    {
     "data": {
      "text/plain": [
       "calculate_variance (generic function with 1 method)"
      ]
     },
     "execution_count": 9,
     "metadata": {},
     "output_type": "execute_result"
    }
   ],
   "source": [
    "function calculate_variance(RV, calculated_mean, n_bins)\n",
    "    return sum(RV.^2 * (1/n_bins)) - calculated_mean^2\n",
    "end"
   ]
  },
  {
   "cell_type": "code",
   "execution_count": 10,
   "metadata": {},
   "outputs": [],
   "source": [
    "# Gamma distribution with parameters α and θ. \n",
    "# Mean = α*θ\n",
    "# Variance = α*θ^2\n",
    "\n",
    "n_bins = 10\n",
    "n_RVs = 30\n",
    "alpha_sum = 0\n",
    "\n",
    "# α = 4\n",
    "θ = 0.5\n",
    "\n",
    "RV_list = Array{Distribution}(undef, n_RVs)\n",
    "\n",
    "for i = 1:n_RVs\n",
    "    α = rand(1:5)\n",
    "    alpha_sum = alpha_sum + α\n",
    "    \n",
    "    temp_RV = Gamma(α, θ)\n",
    "    RV_list[i] = temp_RV\n",
    "end"
   ]
  },
  {
   "cell_type": "code",
   "execution_count": 11,
   "metadata": {},
   "outputs": [],
   "source": [
    "quantiles, quantile_midpoints = generate_midpoints(n_bins)\n",
    "\n",
    "final_RV = first(RV_list)\n",
    "final_RV = quantile.(final_RV, quantile_midpoints)\n",
    "\n",
    "for i = 2:length(RV_list)\n",
    "    temp_list = quantile.(RV_list[i], quantile_midpoints)\n",
    "    \n",
    "    final_RV = add_distributions(temp_list, final_RV)\n",
    "    final_RV = re_bin(final_RV, n_bins) \n",
    "end"
   ]
  },
  {
   "cell_type": "code",
   "execution_count": 12,
   "metadata": {},
   "outputs": [
    {
     "name": "stdout",
     "output_type": "stream",
     "text": [
      "Expected average: 49.0\n",
      "Expected variance: 24.5\n",
      "Computed average: 48.4304252308188\n",
      "Computed variance: 15.81494600349697\n"
     ]
    }
   ],
   "source": [
    "println(\"Expected average: \", alpha_sum * θ)\n",
    "println(\"Expected variance: \", alpha_sum * θ^2)\n",
    "\n",
    "empirical_mean = calculate_mean(final_RV, n_bins)\n",
    "empirical_variance = calculate_variance(final_RV, empirical_mean, n_bins)\n",
    "\n",
    "println(\"Computed average: \", empirical_mean)\n",
    "println(\"Computed variance: \", empirical_variance)"
   ]
  },
  {
   "cell_type": "code",
   "execution_count": 13,
   "metadata": {},
   "outputs": [
    {
     "data": {
      "image/svg+xml": [
       "<?xml version=\"1.0\" encoding=\"utf-8\"?>\n",
       "<svg xmlns=\"http://www.w3.org/2000/svg\" xmlns:xlink=\"http://www.w3.org/1999/xlink\" width=\"600\" height=\"400\" viewBox=\"0 0 2400 1600\">\n",
       "<defs>\n",
       "  <clipPath id=\"clip3900\">\n",
       "    <rect x=\"0\" y=\"0\" width=\"2400\" height=\"1600\"/>\n",
       "  </clipPath>\n",
       "</defs>\n",
       "<path clip-path=\"url(#clip3900)\" d=\"\n",
       "M0 1600 L2400 1600 L2400 0 L0 0  Z\n",
       "  \" fill=\"#ffffff\" fill-rule=\"evenodd\" fill-opacity=\"1\"/>\n",
       "<defs>\n",
       "  <clipPath id=\"clip3901\">\n",
       "    <rect x=\"480\" y=\"0\" width=\"1681\" height=\"1600\"/>\n",
       "  </clipPath>\n",
       "</defs>\n",
       "<path clip-path=\"url(#clip3900)\" d=\"\n",
       "M207.423 1487.47 L2352.76 1487.47 L2352.76 47.2441 L207.423 47.2441  Z\n",
       "  \" fill=\"#ffffff\" fill-rule=\"evenodd\" fill-opacity=\"1\"/>\n",
       "<defs>\n",
       "  <clipPath id=\"clip3902\">\n",
       "    <rect x=\"207\" y=\"47\" width=\"2146\" height=\"1441\"/>\n",
       "  </clipPath>\n",
       "</defs>\n",
       "<polyline clip-path=\"url(#clip3902)\" style=\"stroke:#000000; stroke-width:2; stroke-opacity:0.1; fill:none\" points=\"\n",
       "  268.14,1487.47 268.14,47.2441 \n",
       "  \"/>\n",
       "<polyline clip-path=\"url(#clip3902)\" style=\"stroke:#000000; stroke-width:2; stroke-opacity:0.1; fill:none\" points=\"\n",
       "  849.9,1487.47 849.9,47.2441 \n",
       "  \"/>\n",
       "<polyline clip-path=\"url(#clip3902)\" style=\"stroke:#000000; stroke-width:2; stroke-opacity:0.1; fill:none\" points=\"\n",
       "  1431.66,1487.47 1431.66,47.2441 \n",
       "  \"/>\n",
       "<polyline clip-path=\"url(#clip3902)\" style=\"stroke:#000000; stroke-width:2; stroke-opacity:0.1; fill:none\" points=\"\n",
       "  2013.42,1487.47 2013.42,47.2441 \n",
       "  \"/>\n",
       "<polyline clip-path=\"url(#clip3902)\" style=\"stroke:#000000; stroke-width:2; stroke-opacity:0.1; fill:none\" points=\"\n",
       "  207.423,1446.71 2352.76,1446.71 \n",
       "  \"/>\n",
       "<polyline clip-path=\"url(#clip3902)\" style=\"stroke:#000000; stroke-width:2; stroke-opacity:0.1; fill:none\" points=\"\n",
       "  207.423,1108.05 2352.76,1108.05 \n",
       "  \"/>\n",
       "<polyline clip-path=\"url(#clip3902)\" style=\"stroke:#000000; stroke-width:2; stroke-opacity:0.1; fill:none\" points=\"\n",
       "  207.423,769.395 2352.76,769.395 \n",
       "  \"/>\n",
       "<polyline clip-path=\"url(#clip3902)\" style=\"stroke:#000000; stroke-width:2; stroke-opacity:0.1; fill:none\" points=\"\n",
       "  207.423,430.735 2352.76,430.735 \n",
       "  \"/>\n",
       "<polyline clip-path=\"url(#clip3902)\" style=\"stroke:#000000; stroke-width:2; stroke-opacity:0.1; fill:none\" points=\"\n",
       "  207.423,92.0759 2352.76,92.0759 \n",
       "  \"/>\n",
       "<polyline clip-path=\"url(#clip3900)\" style=\"stroke:#000000; stroke-width:4; stroke-opacity:1; fill:none\" points=\"\n",
       "  207.423,1487.47 2352.76,1487.47 \n",
       "  \"/>\n",
       "<polyline clip-path=\"url(#clip3900)\" style=\"stroke:#000000; stroke-width:4; stroke-opacity:1; fill:none\" points=\"\n",
       "  207.423,1487.47 207.423,47.2441 \n",
       "  \"/>\n",
       "<polyline clip-path=\"url(#clip3900)\" style=\"stroke:#000000; stroke-width:4; stroke-opacity:1; fill:none\" points=\"\n",
       "  268.14,1487.47 268.14,1470.19 \n",
       "  \"/>\n",
       "<polyline clip-path=\"url(#clip3900)\" style=\"stroke:#000000; stroke-width:4; stroke-opacity:1; fill:none\" points=\"\n",
       "  849.9,1487.47 849.9,1470.19 \n",
       "  \"/>\n",
       "<polyline clip-path=\"url(#clip3900)\" style=\"stroke:#000000; stroke-width:4; stroke-opacity:1; fill:none\" points=\"\n",
       "  1431.66,1487.47 1431.66,1470.19 \n",
       "  \"/>\n",
       "<polyline clip-path=\"url(#clip3900)\" style=\"stroke:#000000; stroke-width:4; stroke-opacity:1; fill:none\" points=\"\n",
       "  2013.42,1487.47 2013.42,1470.19 \n",
       "  \"/>\n",
       "<polyline clip-path=\"url(#clip3900)\" style=\"stroke:#000000; stroke-width:4; stroke-opacity:1; fill:none\" points=\"\n",
       "  207.423,1446.71 233.167,1446.71 \n",
       "  \"/>\n",
       "<polyline clip-path=\"url(#clip3900)\" style=\"stroke:#000000; stroke-width:4; stroke-opacity:1; fill:none\" points=\"\n",
       "  207.423,1108.05 233.167,1108.05 \n",
       "  \"/>\n",
       "<polyline clip-path=\"url(#clip3900)\" style=\"stroke:#000000; stroke-width:4; stroke-opacity:1; fill:none\" points=\"\n",
       "  207.423,769.395 233.167,769.395 \n",
       "  \"/>\n",
       "<polyline clip-path=\"url(#clip3900)\" style=\"stroke:#000000; stroke-width:4; stroke-opacity:1; fill:none\" points=\"\n",
       "  207.423,430.735 233.167,430.735 \n",
       "  \"/>\n",
       "<polyline clip-path=\"url(#clip3900)\" style=\"stroke:#000000; stroke-width:4; stroke-opacity:1; fill:none\" points=\"\n",
       "  207.423,92.0759 233.167,92.0759 \n",
       "  \"/>\n",
       "<g clip-path=\"url(#clip3900)\">\n",
       "<text style=\"fill:#000000; fill-opacity:1; font-family:Arial,Helvetica Neue,Helvetica,sans-serif; font-size:48px; text-anchor:middle;\" transform=\"rotate(0, 268.14, 1541.47)\" x=\"268.14\" y=\"1541.47\">0</text>\n",
       "</g>\n",
       "<g clip-path=\"url(#clip3900)\">\n",
       "<text style=\"fill:#000000; fill-opacity:1; font-family:Arial,Helvetica Neue,Helvetica,sans-serif; font-size:48px; text-anchor:middle;\" transform=\"rotate(0, 849.9, 1541.47)\" x=\"849.9\" y=\"1541.47\">20</text>\n",
       "</g>\n",
       "<g clip-path=\"url(#clip3900)\">\n",
       "<text style=\"fill:#000000; fill-opacity:1; font-family:Arial,Helvetica Neue,Helvetica,sans-serif; font-size:48px; text-anchor:middle;\" transform=\"rotate(0, 1431.66, 1541.47)\" x=\"1431.66\" y=\"1541.47\">40</text>\n",
       "</g>\n",
       "<g clip-path=\"url(#clip3900)\">\n",
       "<text style=\"fill:#000000; fill-opacity:1; font-family:Arial,Helvetica Neue,Helvetica,sans-serif; font-size:48px; text-anchor:middle;\" transform=\"rotate(0, 2013.42, 1541.47)\" x=\"2013.42\" y=\"1541.47\">60</text>\n",
       "</g>\n",
       "<g clip-path=\"url(#clip3900)\">\n",
       "<text style=\"fill:#000000; fill-opacity:1; font-family:Arial,Helvetica Neue,Helvetica,sans-serif; font-size:48px; text-anchor:end;\" transform=\"rotate(0, 183.423, 1464.21)\" x=\"183.423\" y=\"1464.21\">0.000</text>\n",
       "</g>\n",
       "<g clip-path=\"url(#clip3900)\">\n",
       "<text style=\"fill:#000000; fill-opacity:1; font-family:Arial,Helvetica Neue,Helvetica,sans-serif; font-size:48px; text-anchor:end;\" transform=\"rotate(0, 183.423, 1125.55)\" x=\"183.423\" y=\"1125.55\">0.025</text>\n",
       "</g>\n",
       "<g clip-path=\"url(#clip3900)\">\n",
       "<text style=\"fill:#000000; fill-opacity:1; font-family:Arial,Helvetica Neue,Helvetica,sans-serif; font-size:48px; text-anchor:end;\" transform=\"rotate(0, 183.423, 786.895)\" x=\"183.423\" y=\"786.895\">0.050</text>\n",
       "</g>\n",
       "<g clip-path=\"url(#clip3900)\">\n",
       "<text style=\"fill:#000000; fill-opacity:1; font-family:Arial,Helvetica Neue,Helvetica,sans-serif; font-size:48px; text-anchor:end;\" transform=\"rotate(0, 183.423, 448.235)\" x=\"183.423\" y=\"448.235\">0.075</text>\n",
       "</g>\n",
       "<g clip-path=\"url(#clip3900)\">\n",
       "<text style=\"fill:#000000; fill-opacity:1; font-family:Arial,Helvetica Neue,Helvetica,sans-serif; font-size:48px; text-anchor:end;\" transform=\"rotate(0, 183.423, 109.576)\" x=\"183.423\" y=\"109.576\">0.100</text>\n",
       "</g>\n",
       "<polyline clip-path=\"url(#clip3902)\" style=\"stroke:#009af9; stroke-width:4; stroke-opacity:1; fill:none\" points=\"\n",
       "  268.14,1446.71 287.905,1446.71 470.661,1446.71 580.49,1446.71 673.349,1446.71 774.22,1446.71 867.214,1446.71 966.913,1446.71 1082.42,1446.71 1185.08,1446.28 \n",
       "  1275.09,1438.9 1299.63,1431.77 1324.17,1419.67 1348.7,1400.26 1373.24,1370.82 1385.58,1351.32 1397.92,1328.21 1410.26,1301.21 1422.6,1270.06 1434.94,1234.61 \n",
       "  1447.28,1194.8 1459.62,1150.68 1471.96,1102.43 1499.25,982.905 1526.54,850.981 1553.83,715.658 1581.12,587.964 1594.1,533.246 1607.08,484.035 1620.07,441.383 \n",
       "  1633.05,406.19 1646.03,379.175 1659.01,360.85 1672,351.505 1684.98,351.206 1698.48,360.315 1711.97,378.616 1725.47,405.475 1738.97,440.071 1752.47,481.437 \n",
       "  1765.97,528.498 1779.47,580.12 1792.97,635.144 1815.69,732.327 1838.42,830.891 1861.14,926.535 1883.87,1015.91 1897.74,1066.36 1911.61,1113.26 1925.49,1156.39 \n",
       "  1939.36,1195.65 1953.23,1231.04 1967.11,1262.67 1980.98,1290.66 1994.85,1315.24 2020.93,1353.05 2047.01,1381.4 2073.1,1402.11 2099.18,1416.87 2182.75,1439.48 \n",
       "  2266.32,1445.26 2279.18,1445.59 2292.04,1445.85 \n",
       "  \"/>\n",
       "<polyline clip-path=\"url(#clip3902)\" style=\"stroke:#e26f46; stroke-width:4; stroke-opacity:1; fill:none\" points=\"\n",
       "  1246.68,1445.37 1250.88,1445.17 1255.08,1444.95 1293.93,1441.05 1332.78,1430.43 1356.12,1417.64 1379.47,1396.86 1399.21,1370.51 1418.94,1333.6 1429.66,1308.23 \n",
       "  1440.39,1278.62 1451.11,1244.42 1461.83,1205.35 1471.71,1164.83 1481.59,1119.9 1491.48,1070.57 1501.36,1016.94 1522.55,888.651 1543.75,745.992 1568.3,572.012 \n",
       "  1592.85,402.935 1603.76,333.876 1614.67,270.754 1625.58,215.057 1636.49,168.146 1646.06,135.177 1655.63,110.529 1665.19,94.6983 1674.76,88.0053 1685.19,91.2764 \n",
       "  1695.62,105.489 1706.05,130.301 1716.48,165.116 1726.98,209.401 1737.47,261.945 1747.96,321.552 1758.46,386.917 1781.66,545.018 1804.86,709.785 1826.94,860.815 \n",
       "  1849.01,997.553 1860.49,1061.1 1871.97,1118.91 1883.44,1170.78 1894.92,1216.71 1914.24,1281.16 1933.57,1330.83 1957.16,1374.53 1980.75,1403.58 2002.92,1421.12 \n",
       "  2025.1,1432.07 2060.63,1441.17 2096.16,1444.81 2101.62,1445.11 2107.09,1445.37 \n",
       "  \"/>\n",
       "<polyline clip-path=\"url(#clip3902)\" style=\"stroke:#3da44d; stroke-width:4; stroke-opacity:1; fill:none\" points=\"\n",
       "  1157.99,1445.63 1163.22,1445.47 1168.45,1445.3 1216.8,1442.16 1265.16,1433.63 1294.21,1423.35 1323.27,1406.66 1347.84,1385.49 1372.4,1355.83 1385.75,1335.45 \n",
       "  1399.09,1311.66 1412.44,1284.19 1425.78,1252.8 1438.08,1220.24 1450.38,1184.14 1462.68,1144.51 1474.99,1101.41 1501.36,998.347 1527.74,883.729 1558.3,743.947 \n",
       "  1588.86,608.106 1602.44,552.621 1616.02,501.906 1629.6,457.157 1643.18,419.467 1655.09,392.979 1666.99,373.176 1678.9,360.457 1690.81,355.08 1703.79,357.708 \n",
       "  1716.78,369.127 1729.76,389.061 1742.74,417.033 1755.8,452.613 1768.86,494.829 1781.92,542.72 1794.98,595.236 1823.86,722.259 1852.74,854.639 1880.22,975.982 \n",
       "  1907.69,1085.84 1921.98,1136.9 1936.26,1183.34 1950.55,1225.02 1964.83,1261.92 1988.88,1313.7 2012.93,1353.61 2042.3,1388.72 2071.66,1412.06 2099.26,1426.15 \n",
       "  2126.86,1434.95 2171.08,1442.26 2215.3,1445.18 2222.11,1445.42 2228.91,1445.63 \n",
       "  \"/>\n",
       "<path clip-path=\"url(#clip3900)\" d=\"\n",
       "M1989.93 372.684 L2280.76 372.684 L2280.76 130.764 L1989.93 130.764  Z\n",
       "  \" fill=\"#ffffff\" fill-rule=\"evenodd\" fill-opacity=\"1\"/>\n",
       "<polyline clip-path=\"url(#clip3900)\" style=\"stroke:#000000; stroke-width:4; stroke-opacity:1; fill:none\" points=\"\n",
       "  1989.93,372.684 2280.76,372.684 2280.76,130.764 1989.93,130.764 1989.93,372.684 \n",
       "  \"/>\n",
       "<polyline clip-path=\"url(#clip3900)\" style=\"stroke:#009af9; stroke-width:4; stroke-opacity:1; fill:none\" points=\"\n",
       "  2013.93,191.244 2157.93,191.244 \n",
       "  \"/>\n",
       "<g clip-path=\"url(#clip3900)\">\n",
       "<text style=\"fill:#000000; fill-opacity:1; font-family:Arial,Helvetica Neue,Helvetica,sans-serif; font-size:48px; text-anchor:start;\" transform=\"rotate(0, 2181.93, 208.744)\" x=\"2181.93\" y=\"208.744\">y1</text>\n",
       "</g>\n",
       "<polyline clip-path=\"url(#clip3900)\" style=\"stroke:#e26f46; stroke-width:4; stroke-opacity:1; fill:none\" points=\"\n",
       "  2013.93,251.724 2157.93,251.724 \n",
       "  \"/>\n",
       "<g clip-path=\"url(#clip3900)\">\n",
       "<text style=\"fill:#000000; fill-opacity:1; font-family:Arial,Helvetica Neue,Helvetica,sans-serif; font-size:48px; text-anchor:start;\" transform=\"rotate(0, 2181.93, 269.224)\" x=\"2181.93\" y=\"269.224\">y2</text>\n",
       "</g>\n",
       "<polyline clip-path=\"url(#clip3900)\" style=\"stroke:#3da44d; stroke-width:4; stroke-opacity:1; fill:none\" points=\"\n",
       "  2013.93,312.204 2157.93,312.204 \n",
       "  \"/>\n",
       "<g clip-path=\"url(#clip3900)\">\n",
       "<text style=\"fill:#000000; fill-opacity:1; font-family:Arial,Helvetica Neue,Helvetica,sans-serif; font-size:48px; text-anchor:start;\" transform=\"rotate(0, 2181.93, 329.704)\" x=\"2181.93\" y=\"329.704\">y3</text>\n",
       "</g>\n",
       "</svg>\n"
      ]
     },
     "execution_count": 13,
     "metadata": {},
     "output_type": "execute_result"
    }
   ],
   "source": [
    "# This plot represents the Gamma distribution we would expect\n",
    "#  to see using the fact that the sum of Gammas with fixed θ\n",
    "#  is Gamma with parameters α = sum(α_i), θ\n",
    "plot(Gamma(alpha_sum, θ))\n",
    "\n",
    "# Plot of the normal distribution estimated from the \n",
    "#  approximate parameters from the final vector of \n",
    "#  of quantiles\n",
    "plot!(Normal(empirical_mean, empirical_variance^0.5))\n",
    "\n",
    "# The plot below represents the distribution we expect\n",
    "#   according to the CLT estimates for μ and σ\n",
    "plot!(Normal(alpha_sum*θ, sqrt(alpha_sum)*θ))"
   ]
  },
  {
   "cell_type": "code",
   "execution_count": null,
   "metadata": {},
   "outputs": [],
   "source": []
  }
 ],
 "metadata": {
  "kernelspec": {
   "display_name": "Julia 1.4.2",
   "language": "julia",
   "name": "julia-1.4"
  },
  "language_info": {
   "file_extension": ".jl",
   "mimetype": "application/julia",
   "name": "julia",
   "version": "1.4.2"
  }
 },
 "nbformat": 4,
 "nbformat_minor": 4
}
