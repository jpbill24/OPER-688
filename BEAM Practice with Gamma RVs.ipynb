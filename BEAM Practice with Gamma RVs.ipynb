{
 "cells": [
  {
   "cell_type": "code",
   "execution_count": 27,
   "metadata": {},
   "outputs": [],
   "source": [
    "using StatsPlots, Statistics, Distributions"
   ]
  },
  {
   "cell_type": "code",
   "execution_count": 28,
   "metadata": {},
   "outputs": [
    {
     "data": {
      "text/plain": [
       "generate_midpoints (generic function with 1 method)"
      ]
     },
     "execution_count": 28,
     "metadata": {},
     "output_type": "execute_result"
    }
   ],
   "source": [
    "function generate_midpoints(n_bins)\n",
    "    quantiles = Array{Float64}(undef, n_bins)\n",
    "    quantile_midpoints = Array{Float64}(undef, n_bins)\n",
    "\n",
    "    #generate the quantile midpoints\n",
    "    for i = 1:n_bins\n",
    "        quantiles[i] = i/n_bins\n",
    "        quantile_midpoints[i] = i/n_bins - (1/2)*(1/n_bins)\n",
    "    end\n",
    "\n",
    "    return vec(quantiles), vec(quantile_midpoints)\n",
    "end"
   ]
  },
  {
   "cell_type": "code",
   "execution_count": 29,
   "metadata": {},
   "outputs": [
    {
     "data": {
      "text/plain": [
       "add_distributions (generic function with 1 method)"
      ]
     },
     "execution_count": 29,
     "metadata": {},
     "output_type": "execute_result"
    }
   ],
   "source": [
    "function add_distributions(list1, list2)\n",
    "    sum_list = Array{Float64}(undef, length(list1)^2)\n",
    "    \n",
    "    list1 = repeat(list1, length(list1))\n",
    "    list1 = sort(list1)\n",
    "    list2 = repeat(list2, length(list2))\n",
    "    \n",
    "    for i in eachindex(sum_list)\n",
    "        sum_list[i] = list1[i] + list2[i]\n",
    "    end\n",
    "    \n",
    "    return vec(sort(sum_list))\n",
    "end"
   ]
  },
  {
   "cell_type": "code",
   "execution_count": 30,
   "metadata": {},
   "outputs": [
    {
     "data": {
      "text/plain": [
       "re_bin (generic function with 1 method)"
      ]
     },
     "execution_count": 30,
     "metadata": {},
     "output_type": "execute_result"
    }
   ],
   "source": [
    "function re_bin(distribution, n_bins)\n",
    "    rebinned = reshape(distribution, n_bins, n_bins)\n",
    "    rebinned = mean(rebinned, dims = 1)\n",
    "    \n",
    "    return vec(rebinned)\n",
    "end"
   ]
  },
  {
   "cell_type": "code",
   "execution_count": 31,
   "metadata": {},
   "outputs": [
    {
     "data": {
      "text/plain": [
       "calculate_mean (generic function with 1 method)"
      ]
     },
     "execution_count": 31,
     "metadata": {},
     "output_type": "execute_result"
    }
   ],
   "source": [
    "function calculate_mean(RV, n_bins)\n",
    "    return sum(RV .* 1/n_bins)\n",
    "end"
   ]
  },
  {
   "cell_type": "code",
   "execution_count": 32,
   "metadata": {},
   "outputs": [
    {
     "data": {
      "text/plain": [
       "calculate_variance (generic function with 1 method)"
      ]
     },
     "execution_count": 32,
     "metadata": {},
     "output_type": "execute_result"
    }
   ],
   "source": [
    "function calculate_variance(RV, calculated_mean, n_bins)\n",
    "    return sum(RV.^2 * (1/n_bins)) - calculated_mean^2\n",
    "end"
   ]
  },
  {
   "cell_type": "code",
   "execution_count": 33,
   "metadata": {},
   "outputs": [],
   "source": [
    "# Gamma distribution with parameters α and θ. \n",
    "# Mean = α*θ\n",
    "# Variance = α*θ^2\n",
    "\n",
    "n_bins = 10\n",
    "n_RVs = 30\n",
    "alpha_sum = 0\n",
    "\n",
    "# α = 4\n",
    "θ = 0.5\n",
    "\n",
    "RV_list = Array{Distribution}(undef, n_RVs)\n",
    "\n",
    "for i = 1:n_RVs\n",
    "    α = rand(1:5)\n",
    "    alpha_sum = alpha_sum + α\n",
    "    \n",
    "    temp_RV = Gamma(α, θ)\n",
    "    RV_list[i] = temp_RV\n",
    "end"
   ]
  },
  {
   "cell_type": "code",
   "execution_count": 34,
   "metadata": {},
   "outputs": [],
   "source": [
    "quantiles, quantile_midpoints = generate_midpoints(n_bins)\n",
    "\n",
    "final_RV = pop!(RV_list)\n",
    "final_RV = quantile.(final_RV, quantile_midpoints)\n",
    "\n",
    "for RV in RV_list\n",
    "    temp_list = quantile.(RV, quantile_midpoints)\n",
    "    \n",
    "    final_RV = add_distributions(temp_list, final_RV)\n",
    "    final_RV = re_bin(final_RV, n_bins) \n",
    "end"
   ]
  },
  {
   "cell_type": "code",
   "execution_count": 35,
   "metadata": {},
   "outputs": [
    {
     "name": "stdout",
     "output_type": "stream",
     "text": [
      "Expected average: 35.0\n",
      "Expected variance: 17.5\n",
      "Computed average: 34.45008152002527\n",
      "Computed variance: 11.021489726052096\n"
     ]
    }
   ],
   "source": [
    "println(\"Expected average: \", alpha_sum * θ)\n",
    "println(\"Expected variance: \", alpha_sum * θ^2)\n",
    "\n",
    "empirical_mean = calculate_mean(final_RV, n_bins)\n",
    "empirical_variance = calculate_variance(final_RV, empirical_mean, n_bins)\n",
    "\n",
    "println(\"Computed average: \", empirical_mean)\n",
    "println(\"Computed variance: \", empirical_variance)"
   ]
  },
  {
   "cell_type": "code",
   "execution_count": 36,
   "metadata": {},
   "outputs": [
    {
     "data": {
      "image/svg+xml": [
       "<?xml version=\"1.0\" encoding=\"utf-8\"?>\n",
       "<svg xmlns=\"http://www.w3.org/2000/svg\" xmlns:xlink=\"http://www.w3.org/1999/xlink\" width=\"600\" height=\"400\" viewBox=\"0 0 2400 1600\">\n",
       "<defs>\n",
       "  <clipPath id=\"clip3500\">\n",
       "    <rect x=\"0\" y=\"0\" width=\"2400\" height=\"1600\"/>\n",
       "  </clipPath>\n",
       "</defs>\n",
       "<path clip-path=\"url(#clip3500)\" d=\"\n",
       "M0 1600 L2400 1600 L2400 0 L0 0  Z\n",
       "  \" fill=\"#ffffff\" fill-rule=\"evenodd\" fill-opacity=\"1\"/>\n",
       "<defs>\n",
       "  <clipPath id=\"clip3501\">\n",
       "    <rect x=\"480\" y=\"0\" width=\"1681\" height=\"1600\"/>\n",
       "  </clipPath>\n",
       "</defs>\n",
       "<path clip-path=\"url(#clip3500)\" d=\"\n",
       "M207.423 1487.47 L2352.76 1487.47 L2352.76 47.2441 L207.423 47.2441  Z\n",
       "  \" fill=\"#ffffff\" fill-rule=\"evenodd\" fill-opacity=\"1\"/>\n",
       "<defs>\n",
       "  <clipPath id=\"clip3502\">\n",
       "    <rect x=\"207\" y=\"47\" width=\"2146\" height=\"1441\"/>\n",
       "  </clipPath>\n",
       "</defs>\n",
       "<polyline clip-path=\"url(#clip3502)\" style=\"stroke:#000000; stroke-width:2; stroke-opacity:0.1; fill:none\" points=\"\n",
       "  268.14,1487.47 268.14,47.2441 \n",
       "  \"/>\n",
       "<polyline clip-path=\"url(#clip3502)\" style=\"stroke:#000000; stroke-width:2; stroke-opacity:0.1; fill:none\" points=\"\n",
       "  651.941,1487.47 651.941,47.2441 \n",
       "  \"/>\n",
       "<polyline clip-path=\"url(#clip3502)\" style=\"stroke:#000000; stroke-width:2; stroke-opacity:0.1; fill:none\" points=\"\n",
       "  1035.74,1487.47 1035.74,47.2441 \n",
       "  \"/>\n",
       "<polyline clip-path=\"url(#clip3502)\" style=\"stroke:#000000; stroke-width:2; stroke-opacity:0.1; fill:none\" points=\"\n",
       "  1419.54,1487.47 1419.54,47.2441 \n",
       "  \"/>\n",
       "<polyline clip-path=\"url(#clip3502)\" style=\"stroke:#000000; stroke-width:2; stroke-opacity:0.1; fill:none\" points=\"\n",
       "  1803.34,1487.47 1803.34,47.2441 \n",
       "  \"/>\n",
       "<polyline clip-path=\"url(#clip3502)\" style=\"stroke:#000000; stroke-width:2; stroke-opacity:0.1; fill:none\" points=\"\n",
       "  2187.14,1487.47 2187.14,47.2441 \n",
       "  \"/>\n",
       "<polyline clip-path=\"url(#clip3502)\" style=\"stroke:#000000; stroke-width:2; stroke-opacity:0.1; fill:none\" points=\"\n",
       "  207.423,1446.71 2352.76,1446.71 \n",
       "  \"/>\n",
       "<polyline clip-path=\"url(#clip3502)\" style=\"stroke:#000000; stroke-width:2; stroke-opacity:0.1; fill:none\" points=\"\n",
       "  207.423,1164 2352.76,1164 \n",
       "  \"/>\n",
       "<polyline clip-path=\"url(#clip3502)\" style=\"stroke:#000000; stroke-width:2; stroke-opacity:0.1; fill:none\" points=\"\n",
       "  207.423,881.283 2352.76,881.283 \n",
       "  \"/>\n",
       "<polyline clip-path=\"url(#clip3502)\" style=\"stroke:#000000; stroke-width:2; stroke-opacity:0.1; fill:none\" points=\"\n",
       "  207.423,598.567 2352.76,598.567 \n",
       "  \"/>\n",
       "<polyline clip-path=\"url(#clip3502)\" style=\"stroke:#000000; stroke-width:2; stroke-opacity:0.1; fill:none\" points=\"\n",
       "  207.423,315.852 2352.76,315.852 \n",
       "  \"/>\n",
       "<polyline clip-path=\"url(#clip3500)\" style=\"stroke:#000000; stroke-width:4; stroke-opacity:1; fill:none\" points=\"\n",
       "  207.423,1487.47 2352.76,1487.47 \n",
       "  \"/>\n",
       "<polyline clip-path=\"url(#clip3500)\" style=\"stroke:#000000; stroke-width:4; stroke-opacity:1; fill:none\" points=\"\n",
       "  207.423,1487.47 207.423,47.2441 \n",
       "  \"/>\n",
       "<polyline clip-path=\"url(#clip3500)\" style=\"stroke:#000000; stroke-width:4; stroke-opacity:1; fill:none\" points=\"\n",
       "  268.14,1487.47 268.14,1470.19 \n",
       "  \"/>\n",
       "<polyline clip-path=\"url(#clip3500)\" style=\"stroke:#000000; stroke-width:4; stroke-opacity:1; fill:none\" points=\"\n",
       "  651.941,1487.47 651.941,1470.19 \n",
       "  \"/>\n",
       "<polyline clip-path=\"url(#clip3500)\" style=\"stroke:#000000; stroke-width:4; stroke-opacity:1; fill:none\" points=\"\n",
       "  1035.74,1487.47 1035.74,1470.19 \n",
       "  \"/>\n",
       "<polyline clip-path=\"url(#clip3500)\" style=\"stroke:#000000; stroke-width:4; stroke-opacity:1; fill:none\" points=\"\n",
       "  1419.54,1487.47 1419.54,1470.19 \n",
       "  \"/>\n",
       "<polyline clip-path=\"url(#clip3500)\" style=\"stroke:#000000; stroke-width:4; stroke-opacity:1; fill:none\" points=\"\n",
       "  1803.34,1487.47 1803.34,1470.19 \n",
       "  \"/>\n",
       "<polyline clip-path=\"url(#clip3500)\" style=\"stroke:#000000; stroke-width:4; stroke-opacity:1; fill:none\" points=\"\n",
       "  2187.14,1487.47 2187.14,1470.19 \n",
       "  \"/>\n",
       "<polyline clip-path=\"url(#clip3500)\" style=\"stroke:#000000; stroke-width:4; stroke-opacity:1; fill:none\" points=\"\n",
       "  207.423,1446.71 233.167,1446.71 \n",
       "  \"/>\n",
       "<polyline clip-path=\"url(#clip3500)\" style=\"stroke:#000000; stroke-width:4; stroke-opacity:1; fill:none\" points=\"\n",
       "  207.423,1164 233.167,1164 \n",
       "  \"/>\n",
       "<polyline clip-path=\"url(#clip3500)\" style=\"stroke:#000000; stroke-width:4; stroke-opacity:1; fill:none\" points=\"\n",
       "  207.423,881.283 233.167,881.283 \n",
       "  \"/>\n",
       "<polyline clip-path=\"url(#clip3500)\" style=\"stroke:#000000; stroke-width:4; stroke-opacity:1; fill:none\" points=\"\n",
       "  207.423,598.567 233.167,598.567 \n",
       "  \"/>\n",
       "<polyline clip-path=\"url(#clip3500)\" style=\"stroke:#000000; stroke-width:4; stroke-opacity:1; fill:none\" points=\"\n",
       "  207.423,315.852 233.167,315.852 \n",
       "  \"/>\n",
       "<g clip-path=\"url(#clip3500)\">\n",
       "<text style=\"fill:#000000; fill-opacity:1; font-family:Arial,Helvetica Neue,Helvetica,sans-serif; font-size:48px; text-anchor:middle;\" transform=\"rotate(0, 268.14, 1541.47)\" x=\"268.14\" y=\"1541.47\">0</text>\n",
       "</g>\n",
       "<g clip-path=\"url(#clip3500)\">\n",
       "<text style=\"fill:#000000; fill-opacity:1; font-family:Arial,Helvetica Neue,Helvetica,sans-serif; font-size:48px; text-anchor:middle;\" transform=\"rotate(0, 651.941, 1541.47)\" x=\"651.941\" y=\"1541.47\">10</text>\n",
       "</g>\n",
       "<g clip-path=\"url(#clip3500)\">\n",
       "<text style=\"fill:#000000; fill-opacity:1; font-family:Arial,Helvetica Neue,Helvetica,sans-serif; font-size:48px; text-anchor:middle;\" transform=\"rotate(0, 1035.74, 1541.47)\" x=\"1035.74\" y=\"1541.47\">20</text>\n",
       "</g>\n",
       "<g clip-path=\"url(#clip3500)\">\n",
       "<text style=\"fill:#000000; fill-opacity:1; font-family:Arial,Helvetica Neue,Helvetica,sans-serif; font-size:48px; text-anchor:middle;\" transform=\"rotate(0, 1419.54, 1541.47)\" x=\"1419.54\" y=\"1541.47\">30</text>\n",
       "</g>\n",
       "<g clip-path=\"url(#clip3500)\">\n",
       "<text style=\"fill:#000000; fill-opacity:1; font-family:Arial,Helvetica Neue,Helvetica,sans-serif; font-size:48px; text-anchor:middle;\" transform=\"rotate(0, 1803.34, 1541.47)\" x=\"1803.34\" y=\"1541.47\">40</text>\n",
       "</g>\n",
       "<g clip-path=\"url(#clip3500)\">\n",
       "<text style=\"fill:#000000; fill-opacity:1; font-family:Arial,Helvetica Neue,Helvetica,sans-serif; font-size:48px; text-anchor:middle;\" transform=\"rotate(0, 2187.14, 1541.47)\" x=\"2187.14\" y=\"1541.47\">50</text>\n",
       "</g>\n",
       "<g clip-path=\"url(#clip3500)\">\n",
       "<text style=\"fill:#000000; fill-opacity:1; font-family:Arial,Helvetica Neue,Helvetica,sans-serif; font-size:48px; text-anchor:end;\" transform=\"rotate(0, 183.423, 1464.21)\" x=\"183.423\" y=\"1464.21\">0.000</text>\n",
       "</g>\n",
       "<g clip-path=\"url(#clip3500)\">\n",
       "<text style=\"fill:#000000; fill-opacity:1; font-family:Arial,Helvetica Neue,Helvetica,sans-serif; font-size:48px; text-anchor:end;\" transform=\"rotate(0, 183.423, 1181.5)\" x=\"183.423\" y=\"1181.5\">0.025</text>\n",
       "</g>\n",
       "<g clip-path=\"url(#clip3500)\">\n",
       "<text style=\"fill:#000000; fill-opacity:1; font-family:Arial,Helvetica Neue,Helvetica,sans-serif; font-size:48px; text-anchor:end;\" transform=\"rotate(0, 183.423, 898.783)\" x=\"183.423\" y=\"898.783\">0.050</text>\n",
       "</g>\n",
       "<g clip-path=\"url(#clip3500)\">\n",
       "<text style=\"fill:#000000; fill-opacity:1; font-family:Arial,Helvetica Neue,Helvetica,sans-serif; font-size:48px; text-anchor:end;\" transform=\"rotate(0, 183.423, 616.067)\" x=\"183.423\" y=\"616.067\">0.075</text>\n",
       "</g>\n",
       "<g clip-path=\"url(#clip3500)\">\n",
       "<text style=\"fill:#000000; fill-opacity:1; font-family:Arial,Helvetica Neue,Helvetica,sans-serif; font-size:48px; text-anchor:end;\" transform=\"rotate(0, 183.423, 333.352)\" x=\"183.423\" y=\"333.352\">0.100</text>\n",
       "</g>\n",
       "<polyline clip-path=\"url(#clip3502)\" style=\"stroke:#009af9; stroke-width:4; stroke-opacity:1; fill:none\" points=\"\n",
       "  268.14,1446.71 287.905,1446.71 470.661,1446.71 580.49,1446.71 673.349,1446.71 774.22,1446.71 867.214,1446.71 966.913,1446.7 1082.42,1445.7 1133.75,1441.99 \n",
       "  1185.08,1429.38 1207.58,1418.13 1230.09,1401.4 1252.59,1377.54 1275.09,1344.87 1287.36,1322.78 1299.63,1297.4 1311.9,1268.58 1324.17,1236.21 1348.7,1160.78 \n",
       "  1373.24,1071.9 1397.92,971.217 1422.6,863.028 1447.28,752.472 1471.96,645.57 1485.61,590.357 1499.25,539.238 1512.9,493.184 1526.54,453.066 1540.19,419.625 \n",
       "  1553.83,393.454 1567.47,374.978 1581.12,364.445 1594.1,361.86 1607.08,366.438 1620.07,377.952 1633.05,396.051 1646.03,420.27 1659.01,450.056 1672,484.776 \n",
       "  1684.98,523.75 1711.97,615.28 1738.97,715.589 1765.97,818.571 1792.97,919.012 1815.69,998.594 1838.42,1071.8 1861.14,1137.54 1883.87,1195.31 1911.61,1254.99 \n",
       "  1939.36,1303.35 1967.11,1341.53 1994.85,1370.95 2020.93,1391.96 2047.01,1407.74 2073.1,1419.38 2099.18,1427.82 2182.75,1441.44 2266.32,1445.42 2279.18,1445.68 \n",
       "  2292.04,1445.9 \n",
       "  \"/>\n",
       "<polyline clip-path=\"url(#clip3502)\" style=\"stroke:#e26f46; stroke-width:4; stroke-opacity:1; fill:none\" points=\"\n",
       "  1116.47,1445.37 1121.1,1445.17 1125.73,1444.95 1168.52,1441.05 1211.31,1430.43 1237.02,1417.64 1262.74,1396.86 1284.48,1370.51 1306.22,1333.6 1318.03,1308.23 \n",
       "  1329.84,1278.62 1341.65,1244.42 1353.45,1205.35 1364.34,1164.83 1375.23,1119.9 1386.11,1070.57 1397,1016.94 1420.34,888.651 1443.69,745.992 1470.73,572.012 \n",
       "  1497.78,402.935 1509.79,333.876 1521.81,270.754 1533.83,215.057 1545.85,168.146 1556.38,135.177 1566.92,110.529 1577.46,94.6983 1588,88.0053 1599.49,91.2764 \n",
       "  1610.98,105.489 1622.47,130.301 1633.96,165.116 1645.51,209.401 1657.07,261.945 1668.63,321.552 1680.19,386.917 1705.74,545.018 1731.3,709.785 1755.62,860.815 \n",
       "  1779.93,997.553 1792.58,1061.1 1805.22,1118.91 1817.86,1170.78 1830.5,1216.71 1851.78,1281.16 1873.07,1330.83 1899.05,1374.53 1925.04,1403.58 1949.46,1421.12 \n",
       "  1973.89,1432.07 2013.02,1441.17 2052.16,1444.81 2058.18,1445.11 2064.2,1445.37 \n",
       "  \"/>\n",
       "<polyline clip-path=\"url(#clip3502)\" style=\"stroke:#3da44d; stroke-width:4; stroke-opacity:1; fill:none\" points=\"\n",
       "  1014.33,1445.64 1020.17,1445.49 1026,1445.32 1079.92,1442.22 1133.83,1433.79 1166.24,1423.64 1198.64,1407.15 1226.04,1386.24 1253.43,1356.95 1268.31,1336.81 \n",
       "  1283.19,1313.32 1298.07,1286.18 1312.95,1255.17 1326.67,1223.01 1340.39,1187.36 1354.1,1148.21 1367.82,1105.64 1397.24,1003.84 1426.65,890.622 1460.73,752.551 \n",
       "  1494.81,618.372 1509.95,563.567 1525.09,513.473 1540.24,469.272 1555.38,432.044 1568.66,405.88 1581.94,386.319 1595.22,373.756 1608.5,368.444 1622.97,371.04 \n",
       "  1637.45,382.319 1651.93,402.01 1666.41,429.639 1680.97,464.784 1695.53,506.482 1710.1,553.787 1724.66,605.66 1756.86,731.129 1789.07,861.888 1819.71,981.745 \n",
       "  1850.35,1090.26 1866.28,1140.69 1882.21,1186.57 1898.14,1227.73 1914.07,1264.18 1940.89,1315.33 1967.71,1354.75 2000.45,1389.43 2033.19,1412.48 2063.97,1426.4 \n",
       "  2094.75,1435.1 2144.06,1442.32 2193.37,1445.2 2200.96,1445.44 2208.55,1445.64 \n",
       "  \"/>\n",
       "<path clip-path=\"url(#clip3500)\" d=\"\n",
       "M1989.93 372.684 L2280.76 372.684 L2280.76 130.764 L1989.93 130.764  Z\n",
       "  \" fill=\"#ffffff\" fill-rule=\"evenodd\" fill-opacity=\"1\"/>\n",
       "<polyline clip-path=\"url(#clip3500)\" style=\"stroke:#000000; stroke-width:4; stroke-opacity:1; fill:none\" points=\"\n",
       "  1989.93,372.684 2280.76,372.684 2280.76,130.764 1989.93,130.764 1989.93,372.684 \n",
       "  \"/>\n",
       "<polyline clip-path=\"url(#clip3500)\" style=\"stroke:#009af9; stroke-width:4; stroke-opacity:1; fill:none\" points=\"\n",
       "  2013.93,191.244 2157.93,191.244 \n",
       "  \"/>\n",
       "<g clip-path=\"url(#clip3500)\">\n",
       "<text style=\"fill:#000000; fill-opacity:1; font-family:Arial,Helvetica Neue,Helvetica,sans-serif; font-size:48px; text-anchor:start;\" transform=\"rotate(0, 2181.93, 208.744)\" x=\"2181.93\" y=\"208.744\">y1</text>\n",
       "</g>\n",
       "<polyline clip-path=\"url(#clip3500)\" style=\"stroke:#e26f46; stroke-width:4; stroke-opacity:1; fill:none\" points=\"\n",
       "  2013.93,251.724 2157.93,251.724 \n",
       "  \"/>\n",
       "<g clip-path=\"url(#clip3500)\">\n",
       "<text style=\"fill:#000000; fill-opacity:1; font-family:Arial,Helvetica Neue,Helvetica,sans-serif; font-size:48px; text-anchor:start;\" transform=\"rotate(0, 2181.93, 269.224)\" x=\"2181.93\" y=\"269.224\">y2</text>\n",
       "</g>\n",
       "<polyline clip-path=\"url(#clip3500)\" style=\"stroke:#3da44d; stroke-width:4; stroke-opacity:1; fill:none\" points=\"\n",
       "  2013.93,312.204 2157.93,312.204 \n",
       "  \"/>\n",
       "<g clip-path=\"url(#clip3500)\">\n",
       "<text style=\"fill:#000000; fill-opacity:1; font-family:Arial,Helvetica Neue,Helvetica,sans-serif; font-size:48px; text-anchor:start;\" transform=\"rotate(0, 2181.93, 329.704)\" x=\"2181.93\" y=\"329.704\">y3</text>\n",
       "</g>\n",
       "</svg>\n"
      ]
     },
     "execution_count": 36,
     "metadata": {},
     "output_type": "execute_result"
    }
   ],
   "source": [
    "# This plot represents the Gamma distribution we would expect\n",
    "#  to see using the fact that the sum of Gammas with fixed θ\n",
    "#  is Gamma with parameters α = sum(α_i), θ\n",
    "plot(Gamma(alpha_sum, θ))\n",
    "\n",
    "# Plot of the normal distribution estimated from the \n",
    "#  approximate parameters from the final vector of \n",
    "#  of quantiles\n",
    "plot!(Normal(empirical_mean, empirical_variance^0.5))\n",
    "\n",
    "# The plot below represents the distribution we expect\n",
    "#   according to the CLT estimates for μ and σ\n",
    "plot!(Normal(alpha_sum*θ, sqrt(alpha_sum)*θ))"
   ]
  },
  {
   "cell_type": "code",
   "execution_count": null,
   "metadata": {},
   "outputs": [],
   "source": []
  }
 ],
 "metadata": {
  "kernelspec": {
   "display_name": "Julia 1.5.0-rc1",
   "language": "julia",
   "name": "julia-1.5"
  },
  "language_info": {
   "file_extension": ".jl",
   "mimetype": "application/julia",
   "name": "julia",
   "version": "1.5.0"
  }
 },
 "nbformat": 4,
 "nbformat_minor": 4
}
