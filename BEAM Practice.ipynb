{
 "cells": [
  {
   "cell_type": "code",
   "execution_count": 49,
   "metadata": {},
   "outputs": [],
   "source": [
    "using StatsPlots, Statistics, Distributions, Random, PyPlot"
   ]
  },
  {
   "cell_type": "code",
   "execution_count": 59,
   "metadata": {},
   "outputs": [],
   "source": [
    "n_bins = 10\n",
    "n_RVs = 100000\n",
    "\n",
    "mean_sum = 0\n",
    "var_sum = 0\n",
    "\n",
    "RV_list = Array{Distribution}(undef, n_RVs)\n",
    "\n",
    "for i = 1:n_RVs\n",
    "    μ = rand(5:10)\n",
    "    σ = rand(1:6)\n",
    "    \n",
    "    temp_RV = Normal(μ, σ)\n",
    "    RV_list[i] = temp_RV\n",
    "    \n",
    "    mean_sum = mean_sum + μ\n",
    "    var_sum = var_sum + σ^2\n",
    "end\n"
   ]
  },
  {
   "cell_type": "code",
   "execution_count": 60,
   "metadata": {},
   "outputs": [
    {
     "data": {
      "text/plain": [
       "generate_midpoints (generic function with 1 method)"
      ]
     },
     "execution_count": 60,
     "metadata": {},
     "output_type": "execute_result"
    }
   ],
   "source": [
    "function generate_midpoints(n_bins)\n",
    "    quantiles = Array{Float64}(undef, n_bins)\n",
    "\n",
    "    #generate the quantile midpoints\n",
    "    for i = 1:n_bins\n",
    "        quantiles[i] = i/n_bins - (1/2)*(1/n_bins)\n",
    "    end\n",
    "\n",
    "    return vec(quantiles)\n",
    "end"
   ]
  },
  {
   "cell_type": "code",
   "execution_count": 61,
   "metadata": {},
   "outputs": [
    {
     "data": {
      "text/plain": [
       "add_distributions (generic function with 1 method)"
      ]
     },
     "execution_count": 61,
     "metadata": {},
     "output_type": "execute_result"
    }
   ],
   "source": [
    "function add_distributions(list1, list2)\n",
    "    sum_list = Array{Float64}(undef, length(list1)^2)\n",
    "    \n",
    "    list1 = repeat(list1, length(list1))\n",
    "    list1 = sort(list1)\n",
    "    list2 = repeat(list2, length(list2))\n",
    "    \n",
    "    for i in eachindex(sum_list)\n",
    "        sum_list[i] = list1[i] + list2[i]\n",
    "    end\n",
    "    \n",
    "    return vec(sort(sum_list))\n",
    "end"
   ]
  },
  {
   "cell_type": "code",
   "execution_count": 62,
   "metadata": {},
   "outputs": [
    {
     "data": {
      "text/plain": [
       "re_bin (generic function with 1 method)"
      ]
     },
     "execution_count": 62,
     "metadata": {},
     "output_type": "execute_result"
    }
   ],
   "source": [
    "function re_bin(distribution, n_bins)\n",
    "    rebinned = reshape(distribution, n_bins, n_bins)\n",
    "    rebinned = mean(rebinned, dims = 1)\n",
    "    \n",
    "    return vec(rebinned)\n",
    "end"
   ]
  },
  {
   "cell_type": "code",
   "execution_count": 63,
   "metadata": {},
   "outputs": [
    {
     "name": "stdout",
     "output_type": "stream",
     "text": [
      "[0.05, 0.15000000000000002, 0.25, 0.35000000000000003, 0.45, 0.5499999999999999, 0.6499999999999999, 0.75, 0.85, 0.95]\n",
      "[2.065439119145582, 3.8906998315186314, 4.976530749411754, 5.8440386007772975, 6.6230159594347775, 7.376984040565222, 8.155961399222702, 9.023469250588246, 10.109300168481369, 11.934560880854416]\n"
     ]
    }
   ],
   "source": [
    "quantile_boundaries = generate_midpoints(n_bins)\n",
    "println(quantile_boundaries)\n",
    "\n",
    "final_RV = pop!(RV_list)\n",
    "final_RV = quantile(final_RV, quantile_boundaries)\n",
    "println(final_RV)\n",
    "\n",
    "for RV in RV_list\n",
    "    temp_list = quantile(RV, quantile_boundaries)\n",
    "    \n",
    "    final_RV = add_distributions(temp_list, final_RV)\n",
    "    final_RV = re_bin(final_RV, n_bins) \n",
    "end\n"
   ]
  },
  {
   "cell_type": "code",
   "execution_count": 64,
   "metadata": {},
   "outputs": [
    {
     "name": "stdout",
     "output_type": "stream",
     "text": [
      "Expected Mean is: 749848\n",
      "Calculated mean is: 749848.0000000014\n"
     ]
    }
   ],
   "source": [
    "println(\"Expected Mean is: \", mean_sum)\n",
    "println(\"Calculated mean is: \", mean(final_RV))"
   ]
  },
  {
   "cell_type": "code",
   "execution_count": 65,
   "metadata": {},
   "outputs": [
    {
     "name": "stdout",
     "output_type": "stream",
     "text": [
      "Normal{Float64}(μ=749848.0000000014, σ=56.6937882260151)\n",
      "1512145\n",
      "1229.6930511310536\n"
     ]
    },
    {
     "data": {
      "text/plain": [
       "Normal{Float64}(μ=749848.0, σ=1229.6930511310536)"
      ]
     },
     "execution_count": 65,
     "metadata": {},
     "output_type": "execute_result"
    }
   ],
   "source": [
    "final_dist = fit(Normal, final_RV)\n",
    "println(final_dist)\n",
    "\n",
    "true_mu = mean_sum\n",
    "true_sigma = var_sum^0.5\n",
    "println(var_sum)\n",
    "println(true_sigma)\n",
    "\n",
    "true_dist = Normal(mean_sum, var_sum^(1/2))"
   ]
  },
  {
   "cell_type": "code",
   "execution_count": null,
   "metadata": {},
   "outputs": [],
   "source": []
  }
 ],
 "metadata": {
  "kernelspec": {
   "display_name": "Julia 1.5.0-rc1",
   "language": "julia",
   "name": "julia-1.5"
  },
  "language_info": {
   "file_extension": ".jl",
   "mimetype": "application/julia",
   "name": "julia",
   "version": "1.5.0"
  }
 },
 "nbformat": 4,
 "nbformat_minor": 4
}
