{
 "cells": [
  {
   "cell_type": "code",
   "execution_count": 1,
   "metadata": {},
   "outputs": [],
   "source": [
    "using StatsPlots, Distributions, Random, Statistics"
   ]
  },
  {
   "cell_type": "code",
   "execution_count": 2,
   "metadata": {},
   "outputs": [
    {
     "data": {
      "text/plain": [
       "get_random_draws (generic function with 1 method)"
      ]
     },
     "execution_count": 2,
     "metadata": {},
     "output_type": "execute_result"
    }
   ],
   "source": [
    "function get_random_draws(rng, n_RVs)\n",
    "    vals = Array{Float64}(undef, n_RVs)\n",
    "    \n",
    "    return vals = rand(rng, n_RVs)\n",
    "end"
   ]
  },
  {
   "cell_type": "code",
   "execution_count": 3,
   "metadata": {},
   "outputs": [
    {
     "data": {
      "text/plain": [
       "get_normal_draws (generic function with 1 method)"
      ]
     },
     "execution_count": 3,
     "metadata": {},
     "output_type": "execute_result"
    }
   ],
   "source": [
    "function get_normal_draws(μ, σ, n_RVs)\n",
    "    vals = Array{Float64}(undef, n_RVs)\n",
    "    \n",
    "    dist = Normal(μ, σ)\n",
    "    \n",
    "    return vals = rand(dist, n_RVs)\n",
    "end"
   ]
  },
  {
   "cell_type": "code",
   "execution_count": 6,
   "metadata": {},
   "outputs": [
    {
     "data": {
      "text/plain": [
       "add_iid_normals (generic function with 1 method)"
      ]
     },
     "execution_count": 6,
     "metadata": {},
     "output_type": "execute_result"
    }
   ],
   "source": [
    "function add_iid_normals(μ, σ, n_RVs, n_reps)\n",
    "    dist = Normal(μ, σ)\n",
    "    dist_sums = Array{Float64}(undef, n_reps)\n",
    "    \n",
    "    for i in eachindex(dist_sums)\n",
    "        RVs = rand(dist, n_RVs)\n",
    "        dist_sums[i] = sum(RVs)\n",
    "    end\n",
    "    \n",
    "    return dist_sums\n",
    "end"
   ]
  },
  {
   "cell_type": "code",
   "execution_count": 10,
   "metadata": {},
   "outputs": [
    {
     "name": "stdout",
     "output_type": "stream",
     "text": [
      "29.98409231066999"
     ]
    }
   ],
   "source": [
    "sums = add_iid_normals(6, 3, 5, 100000)\n",
    "print(mean(sums))"
   ]
  },
  {
   "cell_type": "code",
   "execution_count": 5,
   "metadata": {},
   "outputs": [
    {
     "data": {
      "text/plain": [
       "10-element Array{Float64,1}:\n",
       "  3.8803008046977383\n",
       "  7.804891719303709\n",
       " 10.759281200223619\n",
       "  7.736772808485451\n",
       "  6.477402454576049\n",
       "  6.881874845955327\n",
       "  2.394228367425246\n",
       "  5.770497508148543\n",
       "  8.119832940284237\n",
       "  3.847897897079326"
      ]
     },
     "execution_count": 5,
     "metadata": {},
     "output_type": "execute_result"
    }
   ],
   "source": []
  }
 ],
 "metadata": {
  "kernelspec": {
   "display_name": "Julia 1.5.0-rc1",
   "language": "julia",
   "name": "julia-1.5"
  },
  "language_info": {
   "file_extension": ".jl",
   "mimetype": "application/julia",
   "name": "julia",
   "version": "1.5.0"
  }
 },
 "nbformat": 4,
 "nbformat_minor": 4
}
