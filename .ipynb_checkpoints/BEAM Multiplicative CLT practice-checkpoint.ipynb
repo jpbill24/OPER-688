{
 "cells": [
  {
   "cell_type": "code",
   "execution_count": null,
   "metadata": {},
   "outputs": [],
   "source": [
    "# uncomment and run this block to install all necessary Julia packages\n",
    "\n",
    "# using Pkg\n",
    "\n",
    "# Pkg.add(\"ProgressMeter\")\n",
    "# Pkg.add(\"Distributions\")\n",
    "# Pkg.add(\"StatsPlots\")\n",
    "# Pkg.add(\"Statistics\")\n",
    "# Pkg.add(\"Random\")"
   ]
  },
  {
   "cell_type": "code",
   "execution_count": 1,
   "metadata": {},
   "outputs": [
    {
     "name": "stderr",
     "output_type": "stream",
     "text": [
      "┌ Info: Precompiling Plots [91a5bcdd-55d7-5caf-9e0b-520d859cae80]\n",
      "└ @ Base loading.jl:1260\n"
     ]
    }
   ],
   "source": [
    "using Plots, Statistics, Distributions, Random, ProgressMeter"
   ]
  },
  {
   "cell_type": "code",
   "execution_count": 2,
   "metadata": {},
   "outputs": [
    {
     "data": {
      "text/plain": [
       "BEAM (generic function with 1 method)"
      ]
     },
     "execution_count": 2,
     "metadata": {},
     "output_type": "execute_result"
    }
   ],
   "source": [
    "# helper functions for the BEAM algorithm\n",
    "\n",
    "function generate_midpoints(n_bins)\n",
    "    quantiles = Array{Float64}(undef, n_bins)\n",
    "    quantile_midpoints = Array{Float64}(undef, n_bins)\n",
    "\n",
    "    #generate the quantile midpoints\n",
    "    for i = 1:n_bins\n",
    "        quantiles[i] = i/n_bins\n",
    "        quantile_midpoints[i] = i/n_bins - (1/2)*(1/n_bins)\n",
    "    end\n",
    "\n",
    "    return vec(quantiles), vec(quantile_midpoints)\n",
    "end\n",
    "\n",
    "function add_distributions(list1, list2)\n",
    "    sum_list = Array{Float64}(undef, length(list1)^2)\n",
    "    \n",
    "    list1 = repeat(list1, length(list1))\n",
    "    list1 = sort(list1)\n",
    "    list2 = repeat(list2, length(list2))\n",
    "    \n",
    "    for i in eachindex(sum_list)\n",
    "        sum_list[i] = list1[i] + list2[i]\n",
    "    end\n",
    "    \n",
    "    return vec(sort(sum_list))\n",
    "end\n",
    "\n",
    "function multiply_distributions(list1, list2)\n",
    "    sum_list = Array{Float64}(undef, length(list1)^2)\n",
    "    \n",
    "    list1 = repeat(list1, length(list1))\n",
    "    list1 = sort(list1)\n",
    "    list2 = repeat(list2, length(list2))\n",
    "    \n",
    "    for i in eachindex(sum_list)\n",
    "        sum_list[i] = list1[i] * list2[i]\n",
    "    end\n",
    "    \n",
    "    return vec(sort(sum_list))\n",
    "end\n",
    "\n",
    "function re_bin(distribution, n_bins)\n",
    "    rebinned = reshape(distribution, n_bins, n_bins)\n",
    "    rebinned = mean(rebinned, dims = 1)\n",
    "    \n",
    "    return vec(rebinned)\n",
    "end\n",
    "\n",
    "function calculate_mean(RV, n_bins)\n",
    "    return sum(RV .* 1/n_bins)\n",
    "end\n",
    "\n",
    "function calculate_variance(RV, calculated_mean, n_bins)\n",
    "    return sum(RV.^2 * (1/n_bins)) - calculated_mean^2\n",
    "end\n",
    "\n",
    "function multiplicative_true_mean(μ, n_RVs)\n",
    "    # this function assumes that all RVs are i.i.d.\n",
    "    #    recommend editing for modularity later\n",
    "    return μ^n_RVs\n",
    "end\n",
    "\n",
    "function multiplicative_true_variance(μ, σ, n_RVs)\n",
    "    # this function assumes that all RVs are i.i.d.\n",
    "    #    recommend editing for modularity later\n",
    "    variance = 1\n",
    "    mean_prod_square = true_mean(μ^2, n_RVs)\n",
    "    \n",
    "    for i = 1:n_RVs\n",
    "        # compute the second moment of the product distribution\n",
    "        variance = variance * (σ^2 + μ^2)\n",
    "    end\n",
    "    \n",
    "    # compute the second central moment\n",
    "    variance = variance - mean_prod_square\n",
    "    return variance\n",
    "end\n",
    "\n",
    "function BEAM(RV_list::Array, n_bins::Number, multiplication::Bool)\n",
    "    n_RVs = length(RV_list)\n",
    "    \n",
    "    # define the list of quantiles and quantile midpoints\n",
    "    quantiles, quantile_midpoints = generate_midpoints(n_bins)\n",
    "    \n",
    "    final_RV = first(RV_list)\n",
    "    final_RV = quantile.(final_RV, quantile_midpoints)\n",
    "\n",
    "    for i = 2:length(RV_list)\n",
    "        temp_list = quantile.(RV_list[i], quantile_midpoints)\n",
    "        if multiplication\n",
    "            final_RV = multiply_distributions(temp_list, final_RV)\n",
    "        else\n",
    "            final_RV = add_distributions(temp_list, final_RV)\n",
    "        end\n",
    "        final_RV = re_bin(final_RV, n_bins) \n",
    "    end\n",
    "\n",
    "    return final_RV\n",
    "end"
   ]
  },
  {
   "cell_type": "code",
   "execution_count": 3,
   "metadata": {},
   "outputs": [
    {
     "data": {
      "text/plain": [
       "non_iid_normals_montecarlo (generic function with 1 method)"
      ]
     },
     "execution_count": 3,
     "metadata": {},
     "output_type": "execute_result"
    }
   ],
   "source": [
    "# helper functions for the Monte-Carlo simulation\n",
    "function cumulative_average(list::Array)\n",
    "    cumulative_averages = Array{Float64}(undef, length(list))\n",
    "    cumulative_averages[1] = list[1]\n",
    "    \n",
    "    for i in 2:length(list)\n",
    "        cumulative_averages[i] = mean(list[1:(i-1)])\n",
    "    end\n",
    "    \n",
    "    return cumulative_averages\n",
    "end\n",
    "\n",
    "function cumulative_stddev(list::Array, Corrected::Bool)\n",
    "    cumulative_stddevs = Array{Float64}(undef, length(list))\n",
    "    cumulative_stddevs[1] = 0\n",
    "    \n",
    "    for i in 2:length(list)\n",
    "        cumulative_stddevs[i] = std(list[1:(i-1)], corrected = Corrected)\n",
    "    end\n",
    "    \n",
    "    return cumulative_stddevs\n",
    "end\n",
    "\n",
    "function cumulative_var(list::Array, Corrected::Bool)\n",
    "    cumulative_var = Array{Float64}(undef, length(list))\n",
    "    cumulative_var[1] = 0\n",
    "    \n",
    "    for i in 2:length(list)\n",
    "        cumulative_var[i] = var(list[1:(i-1)], corrected = Corrected)\n",
    "    end\n",
    "    \n",
    "    return cumulative_var\n",
    "end\n",
    "\n",
    "\n",
    "# simple Monte Carlo sim to evaluate sums of iid exponentials\n",
    "function iid_exponential_montecarlo(λ, n_RVs, n_reps, multiplication::Bool)\n",
    "    β = 1/λ\n",
    "    \n",
    "    dist = Exponential(β)\n",
    "    output = Array{Float64}(undef, n_reps)\n",
    "    \n",
    "    for i in eachindex(output)\n",
    "        RVs = rand(dist, n_RVs)\n",
    "        if multiplication\n",
    "            output[i] = prod(RVs)\n",
    "        else\n",
    "            output[i] = sum(RVs)\n",
    "        end\n",
    "    end\n",
    "    \n",
    "    return output\n",
    "end\n",
    "\n",
    "\n",
    "# simple Monte Carlo sim to evaluate the sums of iid normals\n",
    "function iid_normals_montecarlo(μ, σ, n_RVs, n_reps, multiplication::Bool)\n",
    "    dist = Normal(μ, σ)\n",
    "    output = Array{Float64}(undef, n_reps)\n",
    "    \n",
    "    for i in eachindex(output)\n",
    "        RVs = rand(dist, n_RVs)\n",
    "        if multiplication\n",
    "            output[i] = prod(RVs)\n",
    "        else\n",
    "            output[i] = sum(RVs)\n",
    "        end\n",
    "    end\n",
    "    \n",
    "    return output\n",
    "end\n",
    "\n",
    "\n",
    "# simple Monte Carlo sim to evaluate sums of non-iid normals\n",
    "function non_iid_normals_montecarlo(μ̄::Array, σ̄::Array, n_reps, multiplication::Bool)\n",
    "    n_RVs = length(μ̄)\n",
    "    \n",
    "    # instantiate a list of Random Variables based on the list\n",
    "    #    of means and standard deviations and reshape into a \n",
    "    #    column vector\n",
    "    dist_list = map(x -> Normal(x[1], x[2]), zip(μ̄, σ̄))\n",
    "    \n",
    "    output = Array{Float64}(undef, n_reps)\n",
    "    \n",
    "    for i = 1:n_reps\n",
    "        random_draws = map(x -> rand(x), dist_list)\n",
    "        if multiplication\n",
    "            output[i] = prod(random_draws)\n",
    "        else\n",
    "            output[i] = sum(random_draws)\n",
    "        end\n",
    "    end\n",
    "    \n",
    "    return output\n",
    "end"
   ]
  },
  {
   "cell_type": "code",
   "execution_count": 4,
   "metadata": {},
   "outputs": [
    {
     "data": {
      "text/plain": [
       "compute_averages_error (generic function with 1 method)"
      ]
     },
     "execution_count": 4,
     "metadata": {},
     "output_type": "execute_result"
    }
   ],
   "source": [
    "# helper functions for computing error vectors for both methods\n",
    "\n",
    "function compute_variance_error(BEAM_variances::Array, montecarlo_variances::Array, true_variance::Number)\n",
    "    BEAM_errors = BEAM_variances .- true_variance\n",
    "    montecarlo_errors = montecarlo_variances .- true_variance\n",
    "    \n",
    "    return BEAM_errors, montecarlo_errors\n",
    "end\n",
    "\n",
    "function compute_averages_error(BEAM_means::Array, montecarlo_means::Array, true_mean::Number)\n",
    "    BEAM_errors = BEAM_means .- true_mean\n",
    "    montecarlo_errors = montecarlo_means .- true_mean\n",
    "    \n",
    "    return BEAM_errors, montecarlo_errors\n",
    "end"
   ]
  },
  {
   "cell_type": "code",
   "execution_count": 5,
   "metadata": {},
   "outputs": [
    {
     "name": "stderr",
     "output_type": "stream",
     "text": [
      "\u001b[32mComputing BEAM convolutions100%|████████████████████████| Time: 0:00:03\u001b[39m\n"
     ]
    }
   ],
   "source": [
    "# main code, edit these values for different comparisons between the methods:\n",
    "\n",
    "n_replications = 100\n",
    "n_RVs = 30\n",
    "multiplication = false\n",
    "\n",
    "μ = 6\n",
    "σ = 3\n",
    "\n",
    "# Theoretical mean and variance by the convolution of iid normal RVs\n",
    "true_mean = n_RVs * μ\n",
    "true_var = n_RVs * σ^2\n",
    "\n",
    "# minimum number of bins = 4\n",
    "BEAM_convolution = Array{Float64}(undef, n_replications - 3)\n",
    "BEAM_variances = Array{Float64}(undef, n_replications - 3)\n",
    "\n",
    "# instantiate a list of iid RVs to avoid creating them in memory for each BEAM loop\n",
    "RV_list = Array{Distribution}(undef, n_RVs)\n",
    "RV_list = [Normal(μ, σ) for i = 1:n_RVs]\n",
    "\n",
    "# loop through BEAM process with an increasing number of bins from 4 - n_replications\n",
    "@showprogress \"Computing BEAM convolutions\" for i = 4:n_replications\n",
    "    RV = BEAM(RV_list, i, multiplication)\n",
    "    BEAM_convolution[i - 3] = calculate_mean(RV, i)\n",
    "    BEAM_variances[i - 3] = calculate_variance(RV, BEAM_convolution[i - 3], i)\n",
    "end\n",
    "\n",
    "# generate Monte Carlo results\n",
    "Corrected = false\n",
    "montecarlo_convolutions = iid_normals_montecarlo(μ, σ, n_RVs, n_replications, multiplication)\n",
    "montecarlo_variances = cumulative_var(montecarlo_convolutions, Corrected)\n",
    "montecarlo_convolutions = cumulative_average(montecarlo_convolutions)\n",
    "\n",
    "# compute error vectors\n",
    "BEAM_var_error, montecarlo_var_error = compute_variance_error(BEAM_variances, \n",
    "                                                              montecarlo_variances, \n",
    "                                                              true_var);\n",
    "BEAM_mean_error, montecarlo_mean_error = compute_averages_error(BEAM_convolution, \n",
    "                                                                montecarlo_convolutions, \n",
    "                                                                true_mean);"
   ]
  },
  {
   "cell_type": "code",
   "execution_count": 6,
   "metadata": {},
   "outputs": [],
   "source": [
    "#shifting the BEAM vectors since the minimum number of bins is 4\n",
    "BEAM_var_error = vcat([NaN, NaN, NaN], BEAM_var_error)\n",
    "BEAM_mean_error = vcat([NaN, NaN, NaN], BEAM_mean_error);"
   ]
  },
  {
   "cell_type": "code",
   "execution_count": null,
   "metadata": {},
   "outputs": [],
   "source": [
    "plot(BEAM_mean_error, title = \"Error of Estimated Mean\", label = \"BEAM\")\n",
    "plot!(montecarlo_mean_error, label = \"Monte Carlo\")"
   ]
  },
  {
   "cell_type": "code",
   "execution_count": null,
   "metadata": {},
   "outputs": [],
   "source": [
    "plot(BEAM_var_error, title = \"Error of Estimated Variance\", label = \"BEAM\", ylim = (-2, 2))\n",
    "plot!(montecarlo_var_error, label = \"Monte Carlo\")"
   ]
  },
  {
   "cell_type": "code",
   "execution_count": null,
   "metadata": {},
   "outputs": [],
   "source": [
    "calc_mean = calculate_mean(final_RV, n_bins)\n",
    "calc_var = calculate_variance(final_RV, calc_mean, n_bins)\n",
    "\n",
    "# true_mu = multiplicative_true_mean(μ, n_RVs)\n",
    "# true_var = multiplicative_true_variance(μ, σ, n_RVs)\n",
    "\n",
    "println(\"Expected Additive Mean is: \", true_mean)\n",
    "println(\"Calculated Additive Mean is: \", calc_mean)\n",
    "\n",
    "println(\"Expected Additive Variance is: \", true_var)\n",
    "println(\"Calculated Additive Variance is: \", calc_var)"
   ]
  },
  {
   "cell_type": "code",
   "execution_count": null,
   "metadata": {},
   "outputs": [],
   "source": []
  }
 ],
 "metadata": {
  "kernelspec": {
   "display_name": "Julia 1.4.2",
   "language": "julia",
   "name": "julia-1.4"
  },
  "language_info": {
   "file_extension": ".jl",
   "mimetype": "application/julia",
   "name": "julia",
   "version": "1.4.2"
  }
 },
 "nbformat": 4,
 "nbformat_minor": 4
}
