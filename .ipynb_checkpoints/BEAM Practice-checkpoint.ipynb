{
 "cells": [
  {
   "cell_type": "code",
   "execution_count": 1,
   "metadata": {},
   "outputs": [],
   "source": [
    "using StatsPlots, Statistics, Distributions, Random, PyPlot"
   ]
  },
  {
   "cell_type": "code",
   "execution_count": 2,
   "metadata": {},
   "outputs": [],
   "source": [
    "n_bins = 6\n",
    "n_RVs = 100\n",
    "μ = 6\n",
    "σ = 3\n",
    "\n",
    "RV_list = Array{Distribution}(undef, n_RVs)\n",
    "\n",
    "for i = 1:n_RVs\n",
    "    temp_RV = Normal(μ, σ)\n",
    "    RV_list[i] = temp_RV\n",
    "end\n"
   ]
  },
  {
   "cell_type": "code",
   "execution_count": 3,
   "metadata": {},
   "outputs": [
    {
     "data": {
      "text/plain": [
       "generate_midpoints (generic function with 1 method)"
      ]
     },
     "execution_count": 3,
     "metadata": {},
     "output_type": "execute_result"
    }
   ],
   "source": [
    "function generate_midpoints(n_bins)\n",
    "    quantiles = Array{Float64}(undef, n_bins)\n",
    "\n",
    "    #generate the quantile midpoints\n",
    "    for i = 1:n_bins\n",
    "        quantiles[i] = i/n_bins - (1/2)*(1/n_bins)\n",
    "    end\n",
    "\n",
    "    return vec(quantiles)\n",
    "end"
   ]
  },
  {
   "cell_type": "code",
   "execution_count": 4,
   "metadata": {},
   "outputs": [
    {
     "data": {
      "text/plain": [
       "add_distributions (generic function with 1 method)"
      ]
     },
     "execution_count": 4,
     "metadata": {},
     "output_type": "execute_result"
    }
   ],
   "source": [
    "function add_distributions(list1, list2)\n",
    "    sum_list = Array{Float64}(undef, length(list1)^2)\n",
    "    \n",
    "    list1 = repeat(list1, length(list1))\n",
    "    list1 = sort(list1)\n",
    "    list2 = repeat(list2, length(list2))\n",
    "    \n",
    "    for i in eachindex(sum_list)\n",
    "        sum_list[i] = list1[i] + list2[i]\n",
    "    end\n",
    "    \n",
    "    return vec(sort(sum_list))\n",
    "end"
   ]
  },
  {
   "cell_type": "code",
   "execution_count": 5,
   "metadata": {},
   "outputs": [
    {
     "data": {
      "text/plain": [
       "re_bin (generic function with 1 method)"
      ]
     },
     "execution_count": 5,
     "metadata": {},
     "output_type": "execute_result"
    }
   ],
   "source": [
    "function re_bin(distribution, n_bins)\n",
    "    rebinned = reshape(distribution, n_bins, n_bins)\n",
    "    rebinned = mean(rebinned, dims = 1)\n",
    "    \n",
    "    return vec(rebinned)\n",
    "end"
   ]
  },
  {
   "cell_type": "code",
   "execution_count": 6,
   "metadata": {},
   "outputs": [
    {
     "name": "stdout",
     "output_type": "stream",
     "text": [
      "[1.8510176186980845, 3.9765307494117543, 5.368714817256226, 6.631285182743774, 8.023469250588246, 10.148982381301915]\n",
      "[6.291609724057996, 9.234011745798723, 11.325510249803918, 12.67448975019608, 14.765988254201275, 17.708390275942]\n",
      "[11.209257416223439, 14.636865554927333, 16.93618666231032, 19.06381333768968, 21.363134445072664, 24.79074258377656]\n",
      "[16.29430958516135, 20.18686840429743, 22.69090734642229, 25.309092653577704, 27.81313159570257, 31.705690414838646]\n",
      "[21.534345314243325, 25.724028445293687, 28.61700587289936, 31.382994127100634, 34.2759715547063, 38.465654685756675]\n",
      "[26.849631708984415, 31.31558398245777, 34.57467614843123, 37.42532385156877, 40.684416017542226, 45.15036829101558]\n",
      "[32.210962960796, 36.98313290867395, 40.438527994152594, 43.561472005847406, 47.01686709132605, 51.789037039204]\n",
      "[37.62333049167502, 42.665079862324426, 46.327710969557984, 49.672289030442016, 53.33492013767557, 58.37666950832497]\n",
      "[43.08062792634928, 48.371175586097955, 52.221693287441475, 55.778306712558525, 59.62882441390203, 64.9193720736507]\n",
      "[48.57939174254009, 54.09843379305826, 58.123725195365985, 61.876274804634015, 65.90156620694172, 71.42060825745989]\n",
      "[54.11623795719248, 59.845867501878395, 64.03281126435276, 67.96718873564726, 72.1541324981216, 77.8837620428075]\n",
      "[59.688182087539495, 65.58875320484314, 69.97195671084245, 74.02804328915757, 78.41124679515686, 84.31181791246048]\n",
      "[65.28861647998947, 71.33585860295908, 75.91743722289509, 80.08256277710493, 84.66414139704092, 90.71138352001053]\n",
      "[70.91349604005043, 77.09158135245347, 81.8480283786074, 86.15197162139263, 90.90841864754651, 97.08650395994955]\n",
      "[76.5601827983503, 82.8546416380786, 87.77261108137928, 92.22738891862072, 97.14535836192137, 103.43981720164969]\n",
      "[82.2262651445377, 88.62522673867399, 93.69541248036943, 98.30458751963057, 103.37477326132597, 109.7737348554623]\n",
      "[87.90976461645978, 94.40376409660051, 99.61857736329705, 104.38142263670295, 109.59623590339943, 116.09023538354023]\n",
      "[93.60910373604928, 100.1905663943598, 105.54324936441527, 110.45675063558473, 115.80943360564015, 122.39089626395072]\n",
      "[99.32302005200039, 105.98576977965062, 111.47005241460094, 116.52994758539906, 122.01423022034935, 128.6769799479996]\n",
      "[105.05048421284147, 111.78935859753398, 117.39932117057556, 122.60067882942441, 128.210641402466, 134.94951578715853]\n",
      "[110.79063581652291, 117.60120662892548, 123.33122035154344, 128.66877964845654, 134.3987933710745, 141.20936418347708]\n",
      "[116.54273682482271, 123.42111378062803, 129.26581128059263, 134.73418871940734, 140.57888621937192, 147.4572631751773]\n",
      "[122.30613885702296, 129.24883387132124, 135.203091270401, 140.79690872959898, 146.75116612867873, 153.69386114297706]\n",
      "[128.0802605656387, 135.08409426878484, 141.14301794708734, 146.8569820529126, 152.91590573121516, 159.91973943436133]\n",
      "[133.8645720557291, 140.92660926464424, 147.08552468500778, 152.91447531499216, 159.0733907353558, 166.13542794427096]\n",
      "[139.65858413011432, 146.7760889665523, 153.0305305532779, 158.96946944672206, 165.22391103344773, 172.34141586988574]\n",
      "[145.46184080908665, 152.63224509160025, 158.97794677106432, 165.02205322893568, 171.3677549083998, 178.53815919091338]\n",
      "[151.27391406240497, 158.49479465775866, 164.9276809007989, 171.0723190992011, 177.5052053422414, 184.72608593759506]\n",
      "[157.09440003452997, 164.36346226570643, 170.87963956002588, 177.12036043997412, 183.63653773429363, 190.9055999654701]\n",
      "[162.92291627929208, 170.23798144289694, 176.8337301576307, 183.1662698423693, 189.76201855710312, 197.07708372070798]\n"
     ]
    }
   ],
   "source": [
    "quantile_boundaries = generate_midpoints(n_bins)\n",
    "# println(quantile_boundaries)\n",
    "\n",
    "final_RV = pop!(RV_list)\n",
    "final_RV = quantile(final_RV, quantile_boundaries)\n",
    "println(final_RV)\n",
    "\n",
    "for RV in RV_list\n",
    "    temp_list = quantile(RV, quantile_boundaries)\n",
    "    \n",
    "    final_RV = add_distributions(temp_list, final_RV)\n",
    "    final_RV = re_bin(final_RV, n_bins)\n",
    "    println(final_RV) \n",
    "end\n"
   ]
  },
  {
   "cell_type": "code",
   "execution_count": 7,
   "metadata": {},
   "outputs": [
    {
     "data": {
      "text/plain": [
       "180.00000000000003"
      ]
     },
     "execution_count": 7,
     "metadata": {},
     "output_type": "execute_result"
    }
   ],
   "source": [
    "mean(final_RV)"
   ]
  },
  {
   "cell_type": "code",
   "execution_count": 8,
   "metadata": {},
   "outputs": [
    {
     "data": {
      "text/plain": [
       "6.000000000000001"
      ]
     },
     "execution_count": 8,
     "metadata": {},
     "output_type": "execute_result"
    }
   ],
   "source": [
    "mean(final_RV)/n_RVs"
   ]
  },
  {
   "cell_type": "code",
   "execution_count": null,
   "metadata": {},
   "outputs": [],
   "source": []
  }
 ],
 "metadata": {
  "kernelspec": {
   "display_name": "Julia 1.5.0-rc1",
   "language": "julia",
   "name": "julia-1.5"
  },
  "language_info": {
   "file_extension": ".jl",
   "mimetype": "application/julia",
   "name": "julia",
   "version": "1.5.0"
  }
 },
 "nbformat": 4,
 "nbformat_minor": 4
}
