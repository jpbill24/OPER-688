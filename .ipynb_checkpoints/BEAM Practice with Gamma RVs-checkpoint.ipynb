{
 "cells": [
  {
   "cell_type": "code",
   "execution_count": 1,
   "metadata": {},
   "outputs": [],
   "source": [
    "using StatsPlots, Statistics, Distributions"
   ]
  },
  {
   "cell_type": "code",
   "execution_count": 2,
   "metadata": {},
   "outputs": [
    {
     "data": {
      "text/plain": [
       "generate_midpoints (generic function with 1 method)"
      ]
     },
     "execution_count": 2,
     "metadata": {},
     "output_type": "execute_result"
    }
   ],
   "source": [
    "function generate_midpoints(n_bins)\n",
    "    quantiles = Array{Float64}(undef, n_bins)\n",
    "    quantile_midpoints = Array{Float64}(undef, n_bins)\n",
    "\n",
    "    #generate the quantile midpoints\n",
    "    for i = 1:n_bins\n",
    "        quantiles[i] = i/n_bins\n",
    "        quantile_midpoints[i] = i/n_bins - (1/2)*(1/n_bins)\n",
    "    end\n",
    "\n",
    "    return vec(quantiles), vec(quantile_midpoints)\n",
    "end"
   ]
  },
  {
   "cell_type": "code",
   "execution_count": 3,
   "metadata": {},
   "outputs": [
    {
     "data": {
      "text/plain": [
       "add_distributions (generic function with 1 method)"
      ]
     },
     "execution_count": 3,
     "metadata": {},
     "output_type": "execute_result"
    }
   ],
   "source": [
    "function add_distributions(list1, list2)\n",
    "    sum_list = Array{Float64}(undef, length(list1)^2)\n",
    "    \n",
    "    list1 = repeat(list1, length(list1))\n",
    "    list1 = sort(list1)\n",
    "    list2 = repeat(list2, length(list2))\n",
    "    \n",
    "    for i in eachindex(sum_list)\n",
    "        sum_list[i] = list1[i] + list2[i]\n",
    "    end\n",
    "    \n",
    "    return vec(sort(sum_list))\n",
    "end"
   ]
  },
  {
   "cell_type": "code",
   "execution_count": 4,
   "metadata": {},
   "outputs": [
    {
     "data": {
      "text/plain": [
       "re_bin (generic function with 1 method)"
      ]
     },
     "execution_count": 4,
     "metadata": {},
     "output_type": "execute_result"
    }
   ],
   "source": [
    "function re_bin(distribution, n_bins)\n",
    "    rebinned = reshape(distribution, n_bins, n_bins)\n",
    "    rebinned = mean(rebinned, dims = 1)\n",
    "    \n",
    "    return vec(rebinned)\n",
    "end"
   ]
  },
  {
   "cell_type": "code",
   "execution_count": 5,
   "metadata": {},
   "outputs": [
    {
     "data": {
      "text/plain": [
       "calculate_mean (generic function with 1 method)"
      ]
     },
     "execution_count": 5,
     "metadata": {},
     "output_type": "execute_result"
    }
   ],
   "source": [
    "function calculate_mean(RV, n_bins)\n",
    "    return sum(RV .* 1/n_bins)\n",
    "end"
   ]
  },
  {
   "cell_type": "code",
   "execution_count": 6,
   "metadata": {},
   "outputs": [
    {
     "data": {
      "text/plain": [
       "calculate_variance (generic function with 1 method)"
      ]
     },
     "execution_count": 6,
     "metadata": {},
     "output_type": "execute_result"
    }
   ],
   "source": [
    "function calculate_variance(RV, calculated_mean, n_bins)\n",
    "    return sum(RV.^2 * (1/n_bins)) - calculated_mean^2\n",
    "end"
   ]
  },
  {
   "cell_type": "code",
   "execution_count": 18,
   "metadata": {},
   "outputs": [],
   "source": [
    "# Gamma distribution with parameters α and θ. \n",
    "# Mean = α*θ\n",
    "# Variance = α*θ^2\n",
    "\n",
    "n_bins = 100\n",
    "n_RVs = 100\n",
    "alpha_sum = 0\n",
    "\n",
    "# α = 4\n",
    "θ = 0.5\n",
    "\n",
    "RV_list = Array{Distribution}(undef, n_RVs)\n",
    "\n",
    "for i = 1:n_RVs\n",
    "    α = rand(1:5)\n",
    "    alpha_sum = alpha_sum + α\n",
    "    \n",
    "    temp_RV = Gamma(α, θ)\n",
    "    RV_list[i] = temp_RV\n",
    "end"
   ]
  },
  {
   "cell_type": "code",
   "execution_count": 19,
   "metadata": {},
   "outputs": [],
   "source": [
    "quantiles, quantile_midpoints = generate_midpoints(n_bins)\n",
    "\n",
    "final_RV = pop!(RV_list)\n",
    "final_RV = quantile.(final_RV, quantile_midpoints)\n",
    "\n",
    "for RV in RV_list\n",
    "    temp_list = quantile.(RV, quantile_midpoints)\n",
    "    \n",
    "    final_RV = add_distributions(temp_list, final_RV)\n",
    "    final_RV = re_bin(final_RV, n_bins) \n",
    "end"
   ]
  },
  {
   "cell_type": "code",
   "execution_count": 20,
   "metadata": {},
   "outputs": [
    {
     "name": "stdout",
     "output_type": "stream",
     "text": [
      "Expected average: 139.5\n",
      "Expected variance: 69.75\n",
      "Computed average: 139.31068045907435\n",
      "Computed variance: 66.25789549683032\n"
     ]
    }
   ],
   "source": [
    "println(\"Expected average: \", alpha_sum * θ)\n",
    "println(\"Expected variance: \", alpha_sum * θ^2)\n",
    "\n",
    "empirical_mean = calculate_mean(final_RV, n_bins)\n",
    "empirical_variance = calculate_variance(final_RV, empirical_mean, n_bins)\n",
    "\n",
    "println(\"Computed average: \",empirical_mean)\n",
    "println(\"Computed variance: \", empirical_variance)"
   ]
  },
  {
   "cell_type": "code",
   "execution_count": 22,
   "metadata": {},
   "outputs": [
    {
     "data": {
      "image/svg+xml": [
       "<?xml version=\"1.0\" encoding=\"utf-8\"?>\n",
       "<svg xmlns=\"http://www.w3.org/2000/svg\" xmlns:xlink=\"http://www.w3.org/1999/xlink\" width=\"600\" height=\"400\" viewBox=\"0 0 2400 1600\">\n",
       "<defs>\n",
       "  <clipPath id=\"clip2700\">\n",
       "    <rect x=\"0\" y=\"0\" width=\"2400\" height=\"1600\"/>\n",
       "  </clipPath>\n",
       "</defs>\n",
       "<path clip-path=\"url(#clip2700)\" d=\"\n",
       "M0 1600 L2400 1600 L2400 0 L0 0  Z\n",
       "  \" fill=\"#ffffff\" fill-rule=\"evenodd\" fill-opacity=\"1\"/>\n",
       "<defs>\n",
       "  <clipPath id=\"clip2701\">\n",
       "    <rect x=\"480\" y=\"0\" width=\"1681\" height=\"1600\"/>\n",
       "  </clipPath>\n",
       "</defs>\n",
       "<path clip-path=\"url(#clip2700)\" d=\"\n",
       "M180.66 1487.47 L2352.76 1487.47 L2352.76 47.2441 L180.66 47.2441  Z\n",
       "  \" fill=\"#ffffff\" fill-rule=\"evenodd\" fill-opacity=\"1\"/>\n",
       "<defs>\n",
       "  <clipPath id=\"clip2702\">\n",
       "    <rect x=\"180\" y=\"47\" width=\"2173\" height=\"1441\"/>\n",
       "  </clipPath>\n",
       "</defs>\n",
       "<polyline clip-path=\"url(#clip2702)\" style=\"stroke:#000000; stroke-width:2; stroke-opacity:0.1; fill:none\" points=\"\n",
       "  242.135,1487.47 242.135,47.2441 \n",
       "  \"/>\n",
       "<polyline clip-path=\"url(#clip2702)\" style=\"stroke:#000000; stroke-width:2; stroke-opacity:0.1; fill:none\" points=\"\n",
       "  835.34,1487.47 835.34,47.2441 \n",
       "  \"/>\n",
       "<polyline clip-path=\"url(#clip2702)\" style=\"stroke:#000000; stroke-width:2; stroke-opacity:0.1; fill:none\" points=\"\n",
       "  1428.55,1487.47 1428.55,47.2441 \n",
       "  \"/>\n",
       "<polyline clip-path=\"url(#clip2702)\" style=\"stroke:#000000; stroke-width:2; stroke-opacity:0.1; fill:none\" points=\"\n",
       "  2021.75,1487.47 2021.75,47.2441 \n",
       "  \"/>\n",
       "<polyline clip-path=\"url(#clip2702)\" style=\"stroke:#000000; stroke-width:2; stroke-opacity:0.1; fill:none\" points=\"\n",
       "  180.66,1446.71 2352.76,1446.71 \n",
       "  \"/>\n",
       "<polyline clip-path=\"url(#clip2702)\" style=\"stroke:#000000; stroke-width:2; stroke-opacity:0.1; fill:none\" points=\"\n",
       "  180.66,1169.44 2352.76,1169.44 \n",
       "  \"/>\n",
       "<polyline clip-path=\"url(#clip2702)\" style=\"stroke:#000000; stroke-width:2; stroke-opacity:0.1; fill:none\" points=\"\n",
       "  180.66,892.167 2352.76,892.167 \n",
       "  \"/>\n",
       "<polyline clip-path=\"url(#clip2702)\" style=\"stroke:#000000; stroke-width:2; stroke-opacity:0.1; fill:none\" points=\"\n",
       "  180.66,614.894 2352.76,614.894 \n",
       "  \"/>\n",
       "<polyline clip-path=\"url(#clip2702)\" style=\"stroke:#000000; stroke-width:2; stroke-opacity:0.1; fill:none\" points=\"\n",
       "  180.66,337.62 2352.76,337.62 \n",
       "  \"/>\n",
       "<polyline clip-path=\"url(#clip2702)\" style=\"stroke:#000000; stroke-width:2; stroke-opacity:0.1; fill:none\" points=\"\n",
       "  180.66,60.3469 2352.76,60.3469 \n",
       "  \"/>\n",
       "<polyline clip-path=\"url(#clip2700)\" style=\"stroke:#000000; stroke-width:4; stroke-opacity:1; fill:none\" points=\"\n",
       "  180.66,1487.47 2352.76,1487.47 \n",
       "  \"/>\n",
       "<polyline clip-path=\"url(#clip2700)\" style=\"stroke:#000000; stroke-width:4; stroke-opacity:1; fill:none\" points=\"\n",
       "  180.66,1487.47 180.66,47.2441 \n",
       "  \"/>\n",
       "<polyline clip-path=\"url(#clip2700)\" style=\"stroke:#000000; stroke-width:4; stroke-opacity:1; fill:none\" points=\"\n",
       "  242.135,1487.47 242.135,1470.19 \n",
       "  \"/>\n",
       "<polyline clip-path=\"url(#clip2700)\" style=\"stroke:#000000; stroke-width:4; stroke-opacity:1; fill:none\" points=\"\n",
       "  835.34,1487.47 835.34,1470.19 \n",
       "  \"/>\n",
       "<polyline clip-path=\"url(#clip2700)\" style=\"stroke:#000000; stroke-width:4; stroke-opacity:1; fill:none\" points=\"\n",
       "  1428.55,1487.47 1428.55,1470.19 \n",
       "  \"/>\n",
       "<polyline clip-path=\"url(#clip2700)\" style=\"stroke:#000000; stroke-width:4; stroke-opacity:1; fill:none\" points=\"\n",
       "  2021.75,1487.47 2021.75,1470.19 \n",
       "  \"/>\n",
       "<polyline clip-path=\"url(#clip2700)\" style=\"stroke:#000000; stroke-width:4; stroke-opacity:1; fill:none\" points=\"\n",
       "  180.66,1446.71 206.725,1446.71 \n",
       "  \"/>\n",
       "<polyline clip-path=\"url(#clip2700)\" style=\"stroke:#000000; stroke-width:4; stroke-opacity:1; fill:none\" points=\"\n",
       "  180.66,1169.44 206.725,1169.44 \n",
       "  \"/>\n",
       "<polyline clip-path=\"url(#clip2700)\" style=\"stroke:#000000; stroke-width:4; stroke-opacity:1; fill:none\" points=\"\n",
       "  180.66,892.167 206.725,892.167 \n",
       "  \"/>\n",
       "<polyline clip-path=\"url(#clip2700)\" style=\"stroke:#000000; stroke-width:4; stroke-opacity:1; fill:none\" points=\"\n",
       "  180.66,614.894 206.725,614.894 \n",
       "  \"/>\n",
       "<polyline clip-path=\"url(#clip2700)\" style=\"stroke:#000000; stroke-width:4; stroke-opacity:1; fill:none\" points=\"\n",
       "  180.66,337.62 206.725,337.62 \n",
       "  \"/>\n",
       "<polyline clip-path=\"url(#clip2700)\" style=\"stroke:#000000; stroke-width:4; stroke-opacity:1; fill:none\" points=\"\n",
       "  180.66,60.3469 206.725,60.3469 \n",
       "  \"/>\n",
       "<g clip-path=\"url(#clip2700)\">\n",
       "<text style=\"fill:#000000; fill-opacity:1; font-family:Arial,Helvetica Neue,Helvetica,sans-serif; font-size:48px; text-anchor:middle;\" transform=\"rotate(0, 242.135, 1541.47)\" x=\"242.135\" y=\"1541.47\">0</text>\n",
       "</g>\n",
       "<g clip-path=\"url(#clip2700)\">\n",
       "<text style=\"fill:#000000; fill-opacity:1; font-family:Arial,Helvetica Neue,Helvetica,sans-serif; font-size:48px; text-anchor:middle;\" transform=\"rotate(0, 835.34, 1541.47)\" x=\"835.34\" y=\"1541.47\">50</text>\n",
       "</g>\n",
       "<g clip-path=\"url(#clip2700)\">\n",
       "<text style=\"fill:#000000; fill-opacity:1; font-family:Arial,Helvetica Neue,Helvetica,sans-serif; font-size:48px; text-anchor:middle;\" transform=\"rotate(0, 1428.55, 1541.47)\" x=\"1428.55\" y=\"1541.47\">100</text>\n",
       "</g>\n",
       "<g clip-path=\"url(#clip2700)\">\n",
       "<text style=\"fill:#000000; fill-opacity:1; font-family:Arial,Helvetica Neue,Helvetica,sans-serif; font-size:48px; text-anchor:middle;\" transform=\"rotate(0, 2021.75, 1541.47)\" x=\"2021.75\" y=\"1541.47\">150</text>\n",
       "</g>\n",
       "<g clip-path=\"url(#clip2700)\">\n",
       "<text style=\"fill:#000000; fill-opacity:1; font-family:Arial,Helvetica Neue,Helvetica,sans-serif; font-size:48px; text-anchor:end;\" transform=\"rotate(0, 156.66, 1464.21)\" x=\"156.66\" y=\"1464.21\">0.00</text>\n",
       "</g>\n",
       "<g clip-path=\"url(#clip2700)\">\n",
       "<text style=\"fill:#000000; fill-opacity:1; font-family:Arial,Helvetica Neue,Helvetica,sans-serif; font-size:48px; text-anchor:end;\" transform=\"rotate(0, 156.66, 1186.94)\" x=\"156.66\" y=\"1186.94\">0.01</text>\n",
       "</g>\n",
       "<g clip-path=\"url(#clip2700)\">\n",
       "<text style=\"fill:#000000; fill-opacity:1; font-family:Arial,Helvetica Neue,Helvetica,sans-serif; font-size:48px; text-anchor:end;\" transform=\"rotate(0, 156.66, 909.667)\" x=\"156.66\" y=\"909.667\">0.02</text>\n",
       "</g>\n",
       "<g clip-path=\"url(#clip2700)\">\n",
       "<text style=\"fill:#000000; fill-opacity:1; font-family:Arial,Helvetica Neue,Helvetica,sans-serif; font-size:48px; text-anchor:end;\" transform=\"rotate(0, 156.66, 632.394)\" x=\"156.66\" y=\"632.394\">0.03</text>\n",
       "</g>\n",
       "<g clip-path=\"url(#clip2700)\">\n",
       "<text style=\"fill:#000000; fill-opacity:1; font-family:Arial,Helvetica Neue,Helvetica,sans-serif; font-size:48px; text-anchor:end;\" transform=\"rotate(0, 156.66, 355.12)\" x=\"156.66\" y=\"355.12\">0.04</text>\n",
       "</g>\n",
       "<g clip-path=\"url(#clip2700)\">\n",
       "<text style=\"fill:#000000; fill-opacity:1; font-family:Arial,Helvetica Neue,Helvetica,sans-serif; font-size:48px; text-anchor:end;\" transform=\"rotate(0, 156.66, 77.8469)\" x=\"156.66\" y=\"77.8469\">0.05</text>\n",
       "</g>\n",
       "<polyline clip-path=\"url(#clip2702)\" style=\"stroke:#009af9; stroke-width:4; stroke-opacity:1; fill:none\" points=\"\n",
       "  242.135,1446.71 262.146,1446.71 447.182,1446.71 558.381,1446.71 652.399,1446.71 754.528,1446.71 848.682,1446.71 949.625,1446.71 1066.58,1446.71 1170.51,1446.71 \n",
       "  1261.65,1446.71 1361.02,1446.71 1460.98,1446.7 1516.24,1446.44 1571.49,1443.48 1597.78,1437.82 1624.07,1424.68 1637.21,1413.31 1650.36,1397.32 1663.5,1375.42 \n",
       "  1676.65,1346.23 1690.31,1306.64 1703.98,1256.24 1717.65,1193.92 1731.31,1119.12 1744.98,1032.01 1758.65,933.67 1772.32,826.179 1785.98,712.628 1797.49,615.257 \n",
       "  1808.99,519.188 1820.5,427.41 1832,342.975 1843.51,268.818 1855.01,207.586 1860.76,182.526 1866.51,161.48 1872.27,144.631 1878.02,132.12 1885.04,122.862 \n",
       "  1892.07,120.295 1899.09,124.399 1906.11,135.058 1913.13,152.058 1920.16,175.098 1927.18,203.794 1934.2,237.696 1948.25,319.024 1962.29,414.514 1976.34,519.271 \n",
       "  1990.39,628.455 2003.59,731.151 2016.79,830.657 2030,924.425 2043.2,1010.58 2056.4,1087.93 2069.61,1155.87 2082.81,1214.35 2096.01,1263.7 2117.17,1325.48 \n",
       "  2138.32,1369.2 2159.47,1398.83 2180.63,1418.12 2222.93,1437.48 2265.24,1444.08 2271.75,1444.57 2278.26,1444.97 2284.77,1445.3 2291.28,1445.57 \n",
       "  \"/>\n",
       "<polyline clip-path=\"url(#clip2702)\" style=\"stroke:#e26f46; stroke-width:4; stroke-opacity:1; fill:none\" points=\"\n",
       "  1535.78,1445.37 1539.28,1445.17 1542.79,1444.95 1575.22,1441.05 1607.65,1430.43 1627.14,1417.64 1646.63,1396.86 1663.11,1370.51 1679.59,1333.6 1688.54,1308.23 \n",
       "  1697.49,1278.62 1706.44,1244.42 1715.39,1205.35 1723.64,1164.83 1731.89,1119.9 1740.15,1070.57 1748.4,1016.94 1766.09,888.651 1783.78,745.992 1804.28,572.012 \n",
       "  1824.78,402.935 1833.89,333.876 1842.99,270.754 1852.1,215.057 1861.21,168.146 1869.2,135.177 1877.18,110.529 1885.17,94.6983 1893.16,88.0053 1901.87,91.2764 \n",
       "  1910.58,105.489 1919.28,130.301 1927.99,165.116 1936.75,209.401 1945.51,261.945 1954.27,321.552 1963.03,386.917 1982.4,545.018 2001.77,709.785 2020.2,860.815 \n",
       "  2038.63,997.553 2048.21,1061.1 2057.8,1118.91 2067.38,1170.78 2076.96,1216.71 2093.09,1281.16 2109.22,1330.83 2128.92,1374.53 2148.61,1403.58 2167.12,1421.12 \n",
       "  2185.64,1432.07 2215.3,1441.17 2244.96,1444.81 2249.52,1445.11 2254.09,1445.37 \n",
       "  \"/>\n",
       "<polyline clip-path=\"url(#clip2702)\" style=\"stroke:#3da44d; stroke-width:4; stroke-opacity:1; fill:none\" points=\"\n",
       "  1528.68,1445.4 1532.28,1445.21 1535.88,1445 1569.15,1441.19 1602.43,1430.85 1622.42,1418.37 1642.42,1398.12 1659.33,1372.45 1676.24,1336.47 1685.42,1311.74 \n",
       "  1694.6,1282.88 1703.78,1249.55 1712.97,1211.47 1721.43,1171.98 1729.9,1128.19 1738.36,1080.11 1746.83,1027.83 1764.98,902.8 1783.14,763.759 1804.17,594.189 \n",
       "  1825.2,429.4 1834.54,362.091 1843.89,300.57 1853.23,246.285 1862.58,200.563 1870.77,168.43 1878.97,144.408 1887.16,128.978 1895.36,122.455 1904.29,125.643 \n",
       "  1913.23,139.495 1922.16,163.678 1931.1,197.61 1940.09,240.773 1949.07,291.984 1958.06,350.08 1967.05,413.788 1986.92,567.88 2006.8,728.469 2025.71,875.67 \n",
       "  2044.62,1008.94 2054.45,1070.88 2064.28,1127.22 2074.11,1177.77 2083.94,1222.54 2100.49,1285.36 2117.04,1333.77 2137.25,1376.36 2157.46,1404.67 2176.45,1421.77 \n",
       "  2195.45,1432.45 2225.88,1441.31 2256.31,1444.85 2260.99,1445.15 2265.68,1445.4 \n",
       "  \"/>\n",
       "<path clip-path=\"url(#clip2700)\" d=\"\n",
       "M1989.93 372.684 L2280.76 372.684 L2280.76 130.764 L1989.93 130.764  Z\n",
       "  \" fill=\"#ffffff\" fill-rule=\"evenodd\" fill-opacity=\"1\"/>\n",
       "<polyline clip-path=\"url(#clip2700)\" style=\"stroke:#000000; stroke-width:4; stroke-opacity:1; fill:none\" points=\"\n",
       "  1989.93,372.684 2280.76,372.684 2280.76,130.764 1989.93,130.764 1989.93,372.684 \n",
       "  \"/>\n",
       "<polyline clip-path=\"url(#clip2700)\" style=\"stroke:#009af9; stroke-width:4; stroke-opacity:1; fill:none\" points=\"\n",
       "  2013.93,191.244 2157.93,191.244 \n",
       "  \"/>\n",
       "<g clip-path=\"url(#clip2700)\">\n",
       "<text style=\"fill:#000000; fill-opacity:1; font-family:Arial,Helvetica Neue,Helvetica,sans-serif; font-size:48px; text-anchor:start;\" transform=\"rotate(0, 2181.93, 208.744)\" x=\"2181.93\" y=\"208.744\">y1</text>\n",
       "</g>\n",
       "<polyline clip-path=\"url(#clip2700)\" style=\"stroke:#e26f46; stroke-width:4; stroke-opacity:1; fill:none\" points=\"\n",
       "  2013.93,251.724 2157.93,251.724 \n",
       "  \"/>\n",
       "<g clip-path=\"url(#clip2700)\">\n",
       "<text style=\"fill:#000000; fill-opacity:1; font-family:Arial,Helvetica Neue,Helvetica,sans-serif; font-size:48px; text-anchor:start;\" transform=\"rotate(0, 2181.93, 269.224)\" x=\"2181.93\" y=\"269.224\">y2</text>\n",
       "</g>\n",
       "<polyline clip-path=\"url(#clip2700)\" style=\"stroke:#3da44d; stroke-width:4; stroke-opacity:1; fill:none\" points=\"\n",
       "  2013.93,312.204 2157.93,312.204 \n",
       "  \"/>\n",
       "<g clip-path=\"url(#clip2700)\">\n",
       "<text style=\"fill:#000000; fill-opacity:1; font-family:Arial,Helvetica Neue,Helvetica,sans-serif; font-size:48px; text-anchor:start;\" transform=\"rotate(0, 2181.93, 329.704)\" x=\"2181.93\" y=\"329.704\">y3</text>\n",
       "</g>\n",
       "</svg>\n"
      ]
     },
     "execution_count": 22,
     "metadata": {},
     "output_type": "execute_result"
    }
   ],
   "source": [
    "# This plot represents the Gamma distribution we would expect\n",
    "#  to see using the fact that the sum of Gammas with fixed θ\n",
    "#  is Gamma with parameters α = sum(α_i), θ\n",
    "plot(Gamma(alpha_sum, θ))\n",
    "\n",
    "# Plot of the normal distribution estimated from the \n",
    "#  approximate parameters from the final vector of \n",
    "#  of quantiles\n",
    "plot!(Normal(empirical_mean, empirical_variance^0.5))\n",
    "\n",
    "# The plot below represents the distribution we expect\n",
    "#   according to the CLT estimates for μ and σ\n",
    "plot!(Normal(alpha_sum*θ, sqrt(alpha_sum)*θ))"
   ]
  },
  {
   "cell_type": "code",
   "execution_count": null,
   "metadata": {},
   "outputs": [],
   "source": []
  }
 ],
 "metadata": {
  "kernelspec": {
   "display_name": "Julia 1.5.0-rc1",
   "language": "julia",
   "name": "julia-1.5"
  },
  "language_info": {
   "file_extension": ".jl",
   "mimetype": "application/julia",
   "name": "julia",
   "version": "1.5.0"
  }
 },
 "nbformat": 4,
 "nbformat_minor": 4
}
