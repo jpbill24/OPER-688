{
 "cells": [
  {
   "cell_type": "code",
   "execution_count": 1,
   "metadata": {},
   "outputs": [],
   "source": [
    "using StatsPlots, Statistics, Distributions, Random"
   ]
  },
  {
   "cell_type": "code",
   "execution_count": 2,
   "metadata": {},
   "outputs": [
    {
     "data": {
      "text/plain": [
       "generate_midpoints (generic function with 1 method)"
      ]
     },
     "execution_count": 2,
     "metadata": {},
     "output_type": "execute_result"
    }
   ],
   "source": [
    "function generate_midpoints(n_bins)\n",
    "    quantiles = Array{Float64}(undef, n_bins)\n",
    "    quantile_midpoints = Array{Float64}(undef, n_bins)\n",
    "\n",
    "    #generate the quantile midpoints\n",
    "    for i = 1:n_bins\n",
    "        quantiles[i] = i/n_bins\n",
    "        quantile_midpoints[i] = i/n_bins - (1/2)*(1/n_bins)\n",
    "    end\n",
    "\n",
    "    return vec(quantiles), vec(quantile_midpoints)\n",
    "end"
   ]
  },
  {
   "cell_type": "code",
   "execution_count": 3,
   "metadata": {},
   "outputs": [
    {
     "data": {
      "text/plain": [
       "multiply_distributions (generic function with 1 method)"
      ]
     },
     "execution_count": 3,
     "metadata": {},
     "output_type": "execute_result"
    }
   ],
   "source": [
    "function multiply_distributions(list1, list2)\n",
    "    sum_list = Array{Float64}(undef, length(list1)^2)\n",
    "    \n",
    "    list1 = repeat(list1, length(list1))\n",
    "    list1 = sort(list1)\n",
    "    list2 = repeat(list2, length(list2))\n",
    "    \n",
    "    for i in eachindex(sum_list)\n",
    "        sum_list[i] = list1[i] * list2[i]\n",
    "    end\n",
    "    \n",
    "    return vec(sort(sum_list))\n",
    "end"
   ]
  },
  {
   "cell_type": "code",
   "execution_count": 4,
   "metadata": {},
   "outputs": [
    {
     "data": {
      "text/plain": [
       "re_bin (generic function with 1 method)"
      ]
     },
     "execution_count": 4,
     "metadata": {},
     "output_type": "execute_result"
    }
   ],
   "source": [
    "function re_bin(distribution, n_bins)\n",
    "    rebinned = reshape(distribution, n_bins, n_bins)\n",
    "    rebinned = mean(rebinned, dims = 1)\n",
    "    \n",
    "    return vec(rebinned)\n",
    "end"
   ]
  },
  {
   "cell_type": "code",
   "execution_count": 5,
   "metadata": {},
   "outputs": [
    {
     "data": {
      "text/plain": [
       "calculate_mean (generic function with 1 method)"
      ]
     },
     "execution_count": 5,
     "metadata": {},
     "output_type": "execute_result"
    }
   ],
   "source": [
    "# takes a vector and scalar as input, computes element-wise division\n",
    "\n",
    "function calculate_mean(distribution, n_bins)\n",
    "    return sum(distribution .* 1/n_bins)\n",
    "end"
   ]
  },
  {
   "cell_type": "code",
   "execution_count": 6,
   "metadata": {},
   "outputs": [
    {
     "data": {
      "text/plain": [
       "calculate_variance (generic function with 1 method)"
      ]
     },
     "execution_count": 6,
     "metadata": {},
     "output_type": "execute_result"
    }
   ],
   "source": [
    "# takes vector and two scalars as input, computes the empirical variance\n",
    "\n",
    "function calculate_variance(distribution, calculated_mean, n_bins)\n",
    "    return sum(distribution.^2 * (1/n_bins)) - calculated_mean^2\n",
    "end"
   ]
  },
  {
   "cell_type": "code",
   "execution_count": 7,
   "metadata": {},
   "outputs": [
    {
     "data": {
      "text/plain": [
       "true_mean (generic function with 1 method)"
      ]
     },
     "execution_count": 7,
     "metadata": {},
     "output_type": "execute_result"
    }
   ],
   "source": [
    "function true_mean(μ, n_RVs)\n",
    "    # this function assumes that all RVs are i.i.d.\n",
    "    #    recommend editing for modularity later\n",
    "    return μ^n_RVs\n",
    "end"
   ]
  },
  {
   "cell_type": "code",
   "execution_count": 8,
   "metadata": {},
   "outputs": [
    {
     "data": {
      "text/plain": [
       "true_variance (generic function with 1 method)"
      ]
     },
     "execution_count": 8,
     "metadata": {},
     "output_type": "execute_result"
    }
   ],
   "source": [
    "function true_variance(μ, σ, n_RVs)\n",
    "    # this function assumes that all RVs are i.i.d.\n",
    "    #    recommend editing for modularity later\n",
    "    variance = 1\n",
    "    mean_prod_square = true_mean(μ^2, n_RVs)\n",
    "    \n",
    "    for i = 1:n_RVs\n",
    "        # compute the second moment of the product distribution\n",
    "        variance = variance * (σ^2 + μ^2)\n",
    "    end\n",
    "    \n",
    "    # compute the second central moment\n",
    "    variance = variance - mean_prod_square\n",
    "    return variance\n",
    "end"
   ]
  },
  {
   "cell_type": "code",
   "execution_count": 62,
   "metadata": {},
   "outputs": [],
   "source": [
    "n_bins = 4000\n",
    "n_RVs = 10\n",
    "μ = 6\n",
    "σ = 3\n",
    "\n",
    "# mean_prod = 1\n",
    "# var_prod = 1\n",
    "\n",
    "RV_list = Array{Distribution}(undef, n_RVs)\n",
    "\n",
    "for i = 1:n_RVs\n",
    "#     μ = rand(5:10)\n",
    "#     σ = rand(1:6)\n",
    "    \n",
    "    temp_RV = Normal(μ, σ)\n",
    "    RV_list[i] = temp_RV\n",
    "    \n",
    "#     mean_prod = mean_prod * μ\n",
    "#     var_prod = var_prod * σ^2\n",
    "end"
   ]
  },
  {
   "cell_type": "code",
   "execution_count": 63,
   "metadata": {},
   "outputs": [],
   "source": [
    "quantiles, quantile_boundaries = generate_midpoints(n_bins)\n",
    "\n",
    "final_RV = pop!(RV_list)\n",
    "final_RV = quantile.(final_RV, quantile_boundaries)\n",
    "\n",
    "for RV in RV_list\n",
    "    temp_list = quantile.(RV, quantile_boundaries)\n",
    "    \n",
    "    final_RV = multiply_distributions(temp_list, final_RV)\n",
    "    final_RV = re_bin(final_RV, n_bins) \n",
    "end"
   ]
  },
  {
   "cell_type": "code",
   "execution_count": 64,
   "metadata": {},
   "outputs": [
    {
     "name": "stdout",
     "output_type": "stream",
     "text": [
      "Expected Additive Mean is: 60466176\n",
      "Calculated Additive Mean is: 6.046617599999996e7\n",
      "Expected Additive Variance is: 30394470475952649\n",
      "Calculated Additive Variance is: 2.9677594031188616e16\n"
     ]
    }
   ],
   "source": [
    "calc_mean = calculate_mean(final_RV, n_bins)\n",
    "calc_var = calculate_variance(final_RV, calc_mean, n_bins)\n",
    "\n",
    "true_mu = true_mean(μ, n_RVs)\n",
    "true_var = true_variance(μ, σ, n_RVs)\n",
    "\n",
    "println(\"Expected Additive Mean is: \", true_mu)\n",
    "println(\"Calculated Additive Mean is: \", calc_mean)\n",
    "\n",
    "println(\"Expected Additive Variance is: \", true_var)\n",
    "println(\"Calculated Additive Variance is: \", calc_var)"
   ]
  },
  {
   "cell_type": "code",
   "execution_count": 65,
   "metadata": {},
   "outputs": [
    {
     "data": {
      "text/plain": [
       "1.0241554771593229"
      ]
     },
     "execution_count": 65,
     "metadata": {},
     "output_type": "execute_result"
    }
   ],
   "source": [
    "true_var/calc_var"
   ]
  },
  {
   "cell_type": "code",
   "execution_count": 58,
   "metadata": {},
   "outputs": [
    {
     "data": {
      "text/plain": [
       "true"
      ]
     },
     "execution_count": 58,
     "metadata": {},
     "output_type": "execute_result"
    }
   ],
   "source": [
    "true_var > calc_var"
   ]
  },
  {
   "cell_type": "code",
   "execution_count": null,
   "metadata": {},
   "outputs": [],
   "source": []
  }
 ],
 "metadata": {
  "kernelspec": {
   "display_name": "Julia 1.5.0-rc1",
   "language": "julia",
   "name": "julia-1.5"
  },
  "language_info": {
   "file_extension": ".jl",
   "mimetype": "application/julia",
   "name": "julia",
   "version": "1.5.0"
  }
 },
 "nbformat": 4,
 "nbformat_minor": 4
}
