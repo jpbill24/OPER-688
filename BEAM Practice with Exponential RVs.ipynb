{
 "cells": [
  {
   "cell_type": "code",
   "execution_count": 14,
   "metadata": {},
   "outputs": [],
   "source": [
    "using StatsPlots, Statistics, Distributions, Random"
   ]
  },
  {
   "cell_type": "code",
   "execution_count": 70,
   "metadata": {},
   "outputs": [],
   "source": [
    "n_bins = 8\n",
    "n_RVs = 1000\n",
    "\n",
    "μ = 4\n",
    "\n",
    "RV_list = Array{Distribution}(undef, n_RVs)\n",
    "\n",
    "for i = 1:n_RVs\n",
    "    temp_RV = Exponential(μ)\n",
    "    RV_list[i] = temp_RV\n",
    "end"
   ]
  },
  {
   "cell_type": "code",
   "execution_count": 71,
   "metadata": {},
   "outputs": [
    {
     "data": {
      "text/plain": [
       "generate_midpoints (generic function with 1 method)"
      ]
     },
     "execution_count": 71,
     "metadata": {},
     "output_type": "execute_result"
    }
   ],
   "source": [
    "function generate_midpoints(n_bins)\n",
    "    quantiles = Array{Float64}(undef, n_bins)\n",
    "\n",
    "    #generate the quantile midpoints\n",
    "    for i = 1:n_bins\n",
    "        quantiles[i] = i/n_bins - (1/2)*(1/n_bins)\n",
    "    end\n",
    "\n",
    "    return vec(quantiles)\n",
    "end"
   ]
  },
  {
   "cell_type": "code",
   "execution_count": 72,
   "metadata": {},
   "outputs": [
    {
     "data": {
      "text/plain": [
       "add_distributions (generic function with 1 method)"
      ]
     },
     "execution_count": 72,
     "metadata": {},
     "output_type": "execute_result"
    }
   ],
   "source": [
    "function add_distributions(list1, list2)\n",
    "    sum_list = Array{Float64}(undef, length(list1)^2)\n",
    "    \n",
    "    list1 = repeat(list1, length(list1))\n",
    "    list1 = sort(list1)\n",
    "    list2 = repeat(list2, length(list2))\n",
    "    \n",
    "    for i in eachindex(sum_list)\n",
    "        sum_list[i] = list1[i] + list2[i]\n",
    "    end\n",
    "    \n",
    "    return vec(sort(sum_list))\n",
    "end"
   ]
  },
  {
   "cell_type": "code",
   "execution_count": 73,
   "metadata": {},
   "outputs": [
    {
     "data": {
      "text/plain": [
       "re_bin (generic function with 1 method)"
      ]
     },
     "execution_count": 73,
     "metadata": {},
     "output_type": "execute_result"
    }
   ],
   "source": [
    "function re_bin(distribution, n_bins)\n",
    "    rebinned = reshape(distribution, n_bins, n_bins)\n",
    "    rebinned = mean(rebinned, dims = 1)\n",
    "    \n",
    "    return vec(rebinned)\n",
    "end"
   ]
  },
  {
   "cell_type": "code",
   "execution_count": 74,
   "metadata": {},
   "outputs": [
    {
     "name": "stdout",
     "output_type": "stream",
     "text": [
      "[0.0625, 0.1875, 0.3125, 0.4375, 0.5625, 0.6875, 0.8125, 0.9375]\n",
      "[0.2581540845502847, 0.830557459112978, 1.4987737977656428, 2.301456579614247, 3.3067142927378717, 4.6526032392227235, 6.695905734286686, 11.090354888959125]\n"
     ]
    }
   ],
   "source": [
    "quantile_boundaries = generate_midpoints(n_bins)\n",
    "println(quantile_boundaries)\n",
    "\n",
    "final_RV = pop!(RV_list)\n",
    "final_RV = quantile(final_RV, quantile_boundaries)\n",
    "println(final_RV)\n",
    "\n",
    "for RV in RV_list\n",
    "    temp_list = quantile(RV, quantile_boundaries)\n",
    "    \n",
    "    final_RV = add_distributions(temp_list, final_RV)\n",
    "    final_RV = re_bin(final_RV, n_bins) \n",
    "end"
   ]
  },
  {
   "cell_type": "code",
   "execution_count": 75,
   "metadata": {},
   "outputs": [
    {
     "name": "stdout",
     "output_type": "stream",
     "text": [
      "Expected average (n*μ): 4000\n",
      "Computed average: 3829.3150095312285\n",
      "Normalized error: 0.682739961875086\n"
     ]
    }
   ],
   "source": [
    "println(\"Expected average (n*μ): \", n_RVs*μ)\n",
    "println(\"Computed average: \", mean(final_RV))\n",
    "\n",
    "println(\"Normalized error: \", (n_RVs*μ - mean(final_RV))/n_RVs*μ)"
   ]
  },
  {
   "cell_type": "code",
   "execution_count": 60,
   "metadata": {},
   "outputs": [
    {
     "data": {
      "image/svg+xml": [
       "<?xml version=\"1.0\" encoding=\"utf-8\"?>\n",
       "<svg xmlns=\"http://www.w3.org/2000/svg\" xmlns:xlink=\"http://www.w3.org/1999/xlink\" width=\"600\" height=\"400\" viewBox=\"0 0 2400 1600\">\n",
       "<defs>\n",
       "  <clipPath id=\"clip0000\">\n",
       "    <rect x=\"0\" y=\"0\" width=\"2400\" height=\"1600\"/>\n",
       "  </clipPath>\n",
       "</defs>\n",
       "<path clip-path=\"url(#clip0000)\" d=\"\n",
       "M0 1600 L2400 1600 L2400 0 L0 0  Z\n",
       "  \" fill=\"#ffffff\" fill-rule=\"evenodd\" fill-opacity=\"1\"/>\n",
       "<defs>\n",
       "  <clipPath id=\"clip0001\">\n",
       "    <rect x=\"480\" y=\"0\" width=\"1681\" height=\"1600\"/>\n",
       "  </clipPath>\n",
       "</defs>\n",
       "<path clip-path=\"url(#clip0000)\" d=\"\n",
       "M180.66 1487.47 L2352.76 1487.47 L2352.76 47.2441 L180.66 47.2441  Z\n",
       "  \" fill=\"#ffffff\" fill-rule=\"evenodd\" fill-opacity=\"1\"/>\n",
       "<defs>\n",
       "  <clipPath id=\"clip0002\">\n",
       "    <rect x=\"180\" y=\"47\" width=\"2173\" height=\"1441\"/>\n",
       "  </clipPath>\n",
       "</defs>\n",
       "<polyline clip-path=\"url(#clip0002)\" style=\"stroke:#000000; stroke-width:2; stroke-opacity:0.1; fill:none\" points=\"\n",
       "  242.135,1487.47 242.135,47.2441 \n",
       "  \"/>\n",
       "<polyline clip-path=\"url(#clip0002)\" style=\"stroke:#000000; stroke-width:2; stroke-opacity:0.1; fill:none\" points=\"\n",
       "  798.343,1487.47 798.343,47.2441 \n",
       "  \"/>\n",
       "<polyline clip-path=\"url(#clip0002)\" style=\"stroke:#000000; stroke-width:2; stroke-opacity:0.1; fill:none\" points=\"\n",
       "  1354.55,1487.47 1354.55,47.2441 \n",
       "  \"/>\n",
       "<polyline clip-path=\"url(#clip0002)\" style=\"stroke:#000000; stroke-width:2; stroke-opacity:0.1; fill:none\" points=\"\n",
       "  1910.76,1487.47 1910.76,47.2441 \n",
       "  \"/>\n",
       "<polyline clip-path=\"url(#clip0002)\" style=\"stroke:#000000; stroke-width:2; stroke-opacity:0.1; fill:none\" points=\"\n",
       "  180.66,1446.85 2352.76,1446.85 \n",
       "  \"/>\n",
       "<polyline clip-path=\"url(#clip0002)\" style=\"stroke:#000000; stroke-width:2; stroke-opacity:0.1; fill:none\" points=\"\n",
       "  180.66,1175.08 2352.76,1175.08 \n",
       "  \"/>\n",
       "<polyline clip-path=\"url(#clip0002)\" style=\"stroke:#000000; stroke-width:2; stroke-opacity:0.1; fill:none\" points=\"\n",
       "  180.66,903.312 2352.76,903.312 \n",
       "  \"/>\n",
       "<polyline clip-path=\"url(#clip0002)\" style=\"stroke:#000000; stroke-width:2; stroke-opacity:0.1; fill:none\" points=\"\n",
       "  180.66,631.543 2352.76,631.543 \n",
       "  \"/>\n",
       "<polyline clip-path=\"url(#clip0002)\" style=\"stroke:#000000; stroke-width:2; stroke-opacity:0.1; fill:none\" points=\"\n",
       "  180.66,359.774 2352.76,359.774 \n",
       "  \"/>\n",
       "<polyline clip-path=\"url(#clip0002)\" style=\"stroke:#000000; stroke-width:2; stroke-opacity:0.1; fill:none\" points=\"\n",
       "  180.66,88.0053 2352.76,88.0053 \n",
       "  \"/>\n",
       "<polyline clip-path=\"url(#clip0000)\" style=\"stroke:#000000; stroke-width:4; stroke-opacity:1; fill:none\" points=\"\n",
       "  180.66,1487.47 2352.76,1487.47 \n",
       "  \"/>\n",
       "<polyline clip-path=\"url(#clip0000)\" style=\"stroke:#000000; stroke-width:4; stroke-opacity:1; fill:none\" points=\"\n",
       "  180.66,1487.47 180.66,47.2441 \n",
       "  \"/>\n",
       "<polyline clip-path=\"url(#clip0000)\" style=\"stroke:#000000; stroke-width:4; stroke-opacity:1; fill:none\" points=\"\n",
       "  242.135,1487.47 242.135,1470.19 \n",
       "  \"/>\n",
       "<polyline clip-path=\"url(#clip0000)\" style=\"stroke:#000000; stroke-width:4; stroke-opacity:1; fill:none\" points=\"\n",
       "  798.343,1487.47 798.343,1470.19 \n",
       "  \"/>\n",
       "<polyline clip-path=\"url(#clip0000)\" style=\"stroke:#000000; stroke-width:4; stroke-opacity:1; fill:none\" points=\"\n",
       "  1354.55,1487.47 1354.55,1470.19 \n",
       "  \"/>\n",
       "<polyline clip-path=\"url(#clip0000)\" style=\"stroke:#000000; stroke-width:4; stroke-opacity:1; fill:none\" points=\"\n",
       "  1910.76,1487.47 1910.76,1470.19 \n",
       "  \"/>\n",
       "<polyline clip-path=\"url(#clip0000)\" style=\"stroke:#000000; stroke-width:4; stroke-opacity:1; fill:none\" points=\"\n",
       "  180.66,1446.85 206.725,1446.85 \n",
       "  \"/>\n",
       "<polyline clip-path=\"url(#clip0000)\" style=\"stroke:#000000; stroke-width:4; stroke-opacity:1; fill:none\" points=\"\n",
       "  180.66,1175.08 206.725,1175.08 \n",
       "  \"/>\n",
       "<polyline clip-path=\"url(#clip0000)\" style=\"stroke:#000000; stroke-width:4; stroke-opacity:1; fill:none\" points=\"\n",
       "  180.66,903.312 206.725,903.312 \n",
       "  \"/>\n",
       "<polyline clip-path=\"url(#clip0000)\" style=\"stroke:#000000; stroke-width:4; stroke-opacity:1; fill:none\" points=\"\n",
       "  180.66,631.543 206.725,631.543 \n",
       "  \"/>\n",
       "<polyline clip-path=\"url(#clip0000)\" style=\"stroke:#000000; stroke-width:4; stroke-opacity:1; fill:none\" points=\"\n",
       "  180.66,359.774 206.725,359.774 \n",
       "  \"/>\n",
       "<polyline clip-path=\"url(#clip0000)\" style=\"stroke:#000000; stroke-width:4; stroke-opacity:1; fill:none\" points=\"\n",
       "  180.66,88.0053 206.725,88.0053 \n",
       "  \"/>\n",
       "<g clip-path=\"url(#clip0000)\">\n",
       "<text style=\"fill:#000000; fill-opacity:1; font-family:Arial,Helvetica Neue,Helvetica,sans-serif; font-size:48px; text-anchor:middle;\" transform=\"rotate(0, 242.135, 1541.47)\" x=\"242.135\" y=\"1541.47\">0</text>\n",
       "</g>\n",
       "<g clip-path=\"url(#clip0000)\">\n",
       "<text style=\"fill:#000000; fill-opacity:1; font-family:Arial,Helvetica Neue,Helvetica,sans-serif; font-size:48px; text-anchor:middle;\" transform=\"rotate(0, 798.343, 1541.47)\" x=\"798.343\" y=\"1541.47\">10</text>\n",
       "</g>\n",
       "<g clip-path=\"url(#clip0000)\">\n",
       "<text style=\"fill:#000000; fill-opacity:1; font-family:Arial,Helvetica Neue,Helvetica,sans-serif; font-size:48px; text-anchor:middle;\" transform=\"rotate(0, 1354.55, 1541.47)\" x=\"1354.55\" y=\"1541.47\">20</text>\n",
       "</g>\n",
       "<g clip-path=\"url(#clip0000)\">\n",
       "<text style=\"fill:#000000; fill-opacity:1; font-family:Arial,Helvetica Neue,Helvetica,sans-serif; font-size:48px; text-anchor:middle;\" transform=\"rotate(0, 1910.76, 1541.47)\" x=\"1910.76\" y=\"1541.47\">30</text>\n",
       "</g>\n",
       "<g clip-path=\"url(#clip0000)\">\n",
       "<text style=\"fill:#000000; fill-opacity:1; font-family:Arial,Helvetica Neue,Helvetica,sans-serif; font-size:48px; text-anchor:end;\" transform=\"rotate(0, 156.66, 1464.35)\" x=\"156.66\" y=\"1464.35\">0.00</text>\n",
       "</g>\n",
       "<g clip-path=\"url(#clip0000)\">\n",
       "<text style=\"fill:#000000; fill-opacity:1; font-family:Arial,Helvetica Neue,Helvetica,sans-serif; font-size:48px; text-anchor:end;\" transform=\"rotate(0, 156.66, 1192.58)\" x=\"156.66\" y=\"1192.58\">0.05</text>\n",
       "</g>\n",
       "<g clip-path=\"url(#clip0000)\">\n",
       "<text style=\"fill:#000000; fill-opacity:1; font-family:Arial,Helvetica Neue,Helvetica,sans-serif; font-size:48px; text-anchor:end;\" transform=\"rotate(0, 156.66, 920.812)\" x=\"156.66\" y=\"920.812\">0.10</text>\n",
       "</g>\n",
       "<g clip-path=\"url(#clip0000)\">\n",
       "<text style=\"fill:#000000; fill-opacity:1; font-family:Arial,Helvetica Neue,Helvetica,sans-serif; font-size:48px; text-anchor:end;\" transform=\"rotate(0, 156.66, 649.043)\" x=\"156.66\" y=\"649.043\">0.15</text>\n",
       "</g>\n",
       "<g clip-path=\"url(#clip0000)\">\n",
       "<text style=\"fill:#000000; fill-opacity:1; font-family:Arial,Helvetica Neue,Helvetica,sans-serif; font-size:48px; text-anchor:end;\" transform=\"rotate(0, 156.66, 377.274)\" x=\"156.66\" y=\"377.274\">0.20</text>\n",
       "</g>\n",
       "<g clip-path=\"url(#clip0000)\">\n",
       "<text style=\"fill:#000000; fill-opacity:1; font-family:Arial,Helvetica Neue,Helvetica,sans-serif; font-size:48px; text-anchor:end;\" transform=\"rotate(0, 156.66, 105.505)\" x=\"156.66\" y=\"105.505\">0.25</text>\n",
       "</g>\n",
       "<polyline clip-path=\"url(#clip0002)\" style=\"stroke:#009af9; stroke-width:4; stroke-opacity:1; fill:none\" points=\"\n",
       "  242.135,88.0053 247.138,118.22 252.141,147.763 257.143,176.649 262.146,204.893 285.276,327.523 308.405,438.044 331.535,537.653 354.664,627.426 377.794,708.336 \n",
       "  400.923,781.256 424.053,846.976 447.182,906.207 474.982,969.711 502.782,1025.76 530.582,1075.22 558.381,1118.87 605.39,1181.34 652.399,1231.91 703.463,1275.99 \n",
       "  754.528,1311.03 801.605,1336.93 848.682,1357.89 949.625,1390.34 1066.58,1413.44 1170.51,1425.91 1261.65,1432.95 1361.02,1437.96 1460.98,1441.17 1571.49,1443.4 \n",
       "  1676.65,1444.7 1785.98,1445.53 1878.02,1445.98 1990.39,1446.32 2096.01,1446.52 2265.24,1446.7 2291.28,1446.71 \n",
       "  \"/>\n",
       "<polyline clip-path=\"url(#clip0002)\" style=\"stroke:#e26f46; stroke-width:4; stroke-opacity:1; fill:none\" points=\"\n",
       "  242.135,88.0053 247.138,118.22 252.141,147.763 257.143,176.649 262.146,204.893 285.276,327.523 308.405,438.044 331.535,537.653 354.664,627.426 377.794,708.336 \n",
       "  400.923,781.256 424.053,846.976 447.182,906.207 474.982,969.711 502.782,1025.76 530.582,1075.22 558.381,1118.87 605.39,1181.34 652.399,1231.91 703.463,1275.99 \n",
       "  754.528,1311.03 801.605,1336.93 848.682,1357.89 949.625,1390.34 1066.58,1413.44 1170.51,1425.91 1261.65,1432.95 1361.02,1437.96 1460.98,1441.17 1571.49,1443.4 \n",
       "  1676.65,1444.7 1785.98,1445.53 1878.02,1445.98 1990.39,1446.32 2096.01,1446.52 2265.24,1446.7 2291.28,1446.71 \n",
       "  \"/>\n",
       "<polyline clip-path=\"url(#clip0002)\" style=\"stroke:#3da44d; stroke-width:4; stroke-opacity:1; fill:none\" points=\"\n",
       "  242.135,88.0053 247.138,118.22 252.141,147.763 257.143,176.649 262.146,204.893 285.276,327.523 308.405,438.044 331.535,537.653 354.664,627.426 377.794,708.336 \n",
       "  400.923,781.256 424.053,846.976 447.182,906.207 474.982,969.711 502.782,1025.76 530.582,1075.22 558.381,1118.87 605.39,1181.34 652.399,1231.91 703.463,1275.99 \n",
       "  754.528,1311.03 801.605,1336.93 848.682,1357.89 949.625,1390.34 1066.58,1413.44 1170.51,1425.91 1261.65,1432.95 1361.02,1437.96 1460.98,1441.17 1571.49,1443.4 \n",
       "  1676.65,1444.7 1785.98,1445.53 1878.02,1445.98 1990.39,1446.32 2096.01,1446.52 2265.24,1446.7 2291.28,1446.71 \n",
       "  \"/>\n",
       "<polyline clip-path=\"url(#clip0002)\" style=\"stroke:#c271d2; stroke-width:4; stroke-opacity:1; fill:none\" points=\"\n",
       "  242.135,88.0053 247.138,118.22 252.141,147.763 257.143,176.649 262.146,204.893 285.276,327.523 308.405,438.044 331.535,537.653 354.664,627.426 377.794,708.336 \n",
       "  400.923,781.256 424.053,846.976 447.182,906.207 474.982,969.711 502.782,1025.76 530.582,1075.22 558.381,1118.87 605.39,1181.34 652.399,1231.91 703.463,1275.99 \n",
       "  754.528,1311.03 801.605,1336.93 848.682,1357.89 949.625,1390.34 1066.58,1413.44 1170.51,1425.91 1261.65,1432.95 1361.02,1437.96 1460.98,1441.17 1571.49,1443.4 \n",
       "  1676.65,1444.7 1785.98,1445.53 1878.02,1445.98 1990.39,1446.32 2096.01,1446.52 2265.24,1446.7 2291.28,1446.71 \n",
       "  \"/>\n",
       "<path clip-path=\"url(#clip0000)\" d=\"\n",
       "M1989.93 433.164 L2280.76 433.164 L2280.76 130.764 L1989.93 130.764  Z\n",
       "  \" fill=\"#ffffff\" fill-rule=\"evenodd\" fill-opacity=\"1\"/>\n",
       "<polyline clip-path=\"url(#clip0000)\" style=\"stroke:#000000; stroke-width:4; stroke-opacity:1; fill:none\" points=\"\n",
       "  1989.93,433.164 2280.76,433.164 2280.76,130.764 1989.93,130.764 1989.93,433.164 \n",
       "  \"/>\n",
       "<polyline clip-path=\"url(#clip0000)\" style=\"stroke:#009af9; stroke-width:4; stroke-opacity:1; fill:none\" points=\"\n",
       "  2013.93,191.244 2157.93,191.244 \n",
       "  \"/>\n",
       "<g clip-path=\"url(#clip0000)\">\n",
       "<text style=\"fill:#000000; fill-opacity:1; font-family:Arial,Helvetica Neue,Helvetica,sans-serif; font-size:48px; text-anchor:start;\" transform=\"rotate(0, 2181.93, 208.744)\" x=\"2181.93\" y=\"208.744\">y1</text>\n",
       "</g>\n",
       "<polyline clip-path=\"url(#clip0000)\" style=\"stroke:#e26f46; stroke-width:4; stroke-opacity:1; fill:none\" points=\"\n",
       "  2013.93,251.724 2157.93,251.724 \n",
       "  \"/>\n",
       "<g clip-path=\"url(#clip0000)\">\n",
       "<text style=\"fill:#000000; fill-opacity:1; font-family:Arial,Helvetica Neue,Helvetica,sans-serif; font-size:48px; text-anchor:start;\" transform=\"rotate(0, 2181.93, 269.224)\" x=\"2181.93\" y=\"269.224\">y2</text>\n",
       "</g>\n",
       "<polyline clip-path=\"url(#clip0000)\" style=\"stroke:#3da44d; stroke-width:4; stroke-opacity:1; fill:none\" points=\"\n",
       "  2013.93,312.204 2157.93,312.204 \n",
       "  \"/>\n",
       "<g clip-path=\"url(#clip0000)\">\n",
       "<text style=\"fill:#000000; fill-opacity:1; font-family:Arial,Helvetica Neue,Helvetica,sans-serif; font-size:48px; text-anchor:start;\" transform=\"rotate(0, 2181.93, 329.704)\" x=\"2181.93\" y=\"329.704\">y3</text>\n",
       "</g>\n",
       "<polyline clip-path=\"url(#clip0000)\" style=\"stroke:#c271d2; stroke-width:4; stroke-opacity:1; fill:none\" points=\"\n",
       "  2013.93,372.684 2157.93,372.684 \n",
       "  \"/>\n",
       "<g clip-path=\"url(#clip0000)\">\n",
       "<text style=\"fill:#000000; fill-opacity:1; font-family:Arial,Helvetica Neue,Helvetica,sans-serif; font-size:48px; text-anchor:start;\" transform=\"rotate(0, 2181.93, 390.184)\" x=\"2181.93\" y=\"390.184\">y4</text>\n",
       "</g>\n",
       "</svg>\n"
      ]
     },
     "execution_count": 60,
     "metadata": {},
     "output_type": "execute_result"
    }
   ],
   "source": [
    "plot!(Exponential(θ))"
   ]
  },
  {
   "cell_type": "code",
   "execution_count": null,
   "metadata": {},
   "outputs": [],
   "source": []
  }
 ],
 "metadata": {
  "kernelspec": {
   "display_name": "Julia 1.5.0-rc1",
   "language": "julia",
   "name": "julia-1.5"
  },
  "language_info": {
   "file_extension": ".jl",
   "mimetype": "application/julia",
   "name": "julia",
   "version": "1.5.0"
  }
 },
 "nbformat": 4,
 "nbformat_minor": 4
}
